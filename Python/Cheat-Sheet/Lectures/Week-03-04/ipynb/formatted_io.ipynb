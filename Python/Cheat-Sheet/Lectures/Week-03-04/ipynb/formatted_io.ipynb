{
 "cells": [
  {
   "cell_type": "code",
   "execution_count": null,
   "metadata": {},
   "outputs": [],
   "source": [
    "\"\"\"\n",
    "Created on Tue Oct 17 14:31:22 2020\n",
    "@author: gokcol\n",
    "Basics of formatted i/o\n",
    "\"\"\""
   ]
  },
  {
   "cell_type": "code",
   "execution_count": null,
   "metadata": {},
   "outputs": [],
   "source": [
    "#special delimeter in print function\n",
    "print ('One','Two','Three', sep='')\n",
    "\n",
    "#it is possible to change end of line (\\n) character with\n",
    "#something else.\n",
    "for i in range(4): #default behaviour\n",
    "    print(i)\n",
    "    \n",
    "for i in range(4):\n",
    "    print(i, end=\" :-) \")\n",
    "print (\"\\n\")"
   ]
  },
  {
   "cell_type": "code",
   "execution_count": null,
   "metadata": {},
   "outputs": [],
   "source": [
    "#zerofill, left and right justify\n",
    "print ('12'.zfill(5)) #will print '00012'\n",
    "print ('12'.ljust(5)) #will print '12 '\n",
    "print ('12'.rjust(5)) #will print ' 12'\n",
    "print ('12'.zfill(5).ljust(10)) #will print '00012 '\n",
    "print ('12'.zfill(5).rjust(10)) #will print ' 00012'\n",
    "print(192,168,178,42,sep=\".\") #will print 192.168.178.42"
   ]
  },
  {
   "cell_type": "code",
   "execution_count": null,
   "metadata": {},
   "outputs": [],
   "source": [
    "#format function\n",
    "value = 123.4567\n",
    "x = format(value, \".2f\")\n",
    "print (x)\n",
    "big_n = 91234562.1678342\n",
    "x = format(big_n, \",.2f\")\n",
    "print (x)"
   ]
  },
  {
   "cell_type": "code",
   "execution_count": null,
   "metadata": {},
   "outputs": [],
   "source": [
    "monthly_pay = 5000.0\n",
    "annual_pay = monthly_pay * 12\n",
    "#line continuation symbol is \\\n",
    "print('Your annual pay is ', \\\n",
    "        format(annual_pay, ',.2f'), \" TRY\", sep='')"
   ]
  },
  {
   "cell_type": "code",
   "execution_count": null,
   "metadata": {},
   "outputs": [],
   "source": [
    "big_n = 91234562.1678342\n",
    "x = format(big_n, \"20.5f\")\n",
    "print (x)\n",
    "x = format(big_n, \"20,.5f\")\n",
    "print (x)"
   ]
  },
  {
   "cell_type": "code",
   "execution_count": null,
   "metadata": {},
   "outputs": [],
   "source": [
    "num1 = 127.899\n",
    "num2 = 3465.148\n",
    "num3 = 3.776\n",
    "num4 = 264.821\n",
    "# Display each number in a field of 7 spaces\n",
    "# with 2 decimal places.\n",
    "print(format(num1, '7.2f'))\n",
    "print(format(num2, '7.2f'))\n",
    "print(format(num3, '7.2f'))\n",
    "print(format(num4, '7.2f'))"
   ]
  },
  {
   "cell_type": "code",
   "execution_count": null,
   "metadata": {},
   "outputs": [],
   "source": [
    "#integer numbers\n",
    "number = 123456\n",
    "print(format(number,\"d\"))\n",
    "print(format(number,\",d\"))\n",
    "print(format(number,\"10d\"))\n",
    "print(format(number,\"10,d\"))"
   ]
  },
  {
   "cell_type": "code",
   "execution_count": null,
   "metadata": {},
   "outputs": [],
   "source": [
    "#Formatting the output\n",
    "print('\\nWe are the {} who say \"{}!\"'.format('knights', 'Long live the King!')) \n",
    "import math \n",
    "print('The value of PI is approximately %10.6f.' % math.pi) "
   ]
  },
  {
   "cell_type": "code",
   "execution_count": null,
   "metadata": {},
   "outputs": [],
   "source": [
    "#advanced uses of format in outputs\n",
    "N = 61\n",
    "print('Hello Ozu. There are {0} {1}, (all online :)) {other}.'\n",
    "     .format(N, ' students ', other ='in the class'))\n",
    " \n",
    "# using format() method with number \n",
    "print(\"No. of Students :{0:3d}, average gpa :{1:6.2f}\".\n",
    "      format(N, 090.875))\n",
    " \n",
    "# Changing positional argument\n",
    "print(\"Second argument: {1:3d}, first one: {0:7.2f}\".\n",
    "      format(47.42, 11))\n",
    " \n",
    "print(\"Students: {a:5d},  Average: {p:8.2f}\".\n",
    "     format(a = N, p = 90.875))"
   ]
  },
  {
   "cell_type": "code",
   "execution_count": null,
   "metadata": {},
   "outputs": [],
   "source": [
    "#more\n",
    "print ('%d' % 42)       #old approach -still in use\n",
    "print ('{:d}'.format(42))\n",
    "print ('%f' % 2.1)\n",
    "print ('{:f}'.format(2.1))\n",
    "print ('%s' % 'foobar')\n",
    "print ('{:s}'.format('foobar'))\n",
    "print ('%x' % 31)\n",
    "print ('{:x}'.format(31))\n",
    "print ('{:G}'.format(-123456789.8765))"
   ]
  },
  {
   "cell_type": "code",
   "execution_count": null,
   "metadata": {},
   "outputs": [],
   "source": [
    "#String interpolation\n",
    "name = \"Jon Snow\"\n",
    "f'Hello, {name}!'"
   ]
  },
  {
   "cell_type": "code",
   "execution_count": null,
   "metadata": {},
   "outputs": [],
   "source": [
    "#String interpolation\n",
    "a = 5\n",
    "b = 10\n",
    "result = f'Five plus ten is {a + b} and not {2 * (a + b)}.'\n",
    "print (result)"
   ]
  },
  {
   "cell_type": "code",
   "execution_count": null,
   "metadata": {},
   "outputs": [],
   "source": []
  },
  {
   "cell_type": "code",
   "execution_count": null,
   "metadata": {},
   "outputs": [],
   "source": []
  }
 ],
 "metadata": {
  "kernelspec": {
   "display_name": "Python 3",
   "language": "python",
   "name": "python3"
  },
  "language_info": {
   "codemirror_mode": {
    "name": "ipython",
    "version": 3
   },
   "file_extension": ".py",
   "mimetype": "text/x-python",
   "name": "python",
   "nbconvert_exporter": "python",
   "pygments_lexer": "ipython3",
   "version": "3.8.5"
  }
 },
 "nbformat": 4,
 "nbformat_minor": 4
}
