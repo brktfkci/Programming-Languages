{
 "cells": [
  {
   "cell_type": "markdown",
   "metadata": {},
   "source": [
    "EE393 - Week 3\n",
    "----------------\n",
    "* Lecture codes (for/while)"
   ]
  },
  {
   "cell_type": "code",
   "execution_count": null,
   "metadata": {},
   "outputs": [],
   "source": [
    "#While loop samples\n",
    "count = 0 \n",
    "while (count < 9):\n",
    "    print ('The count is:', count) \n",
    "    count = count + 1\n",
    "print (\"Good bye!\")\n",
    "\n",
    "#Case 2: infinite loop\n",
    "#var = 1 \n",
    "#while var is 1 : # This constructs an infinite loop\n",
    "#    num = input(\"Enter a number :\")\n",
    "#    print (\"You entered: \", num)\n",
    "#print (\"Good bye!\")\n",
    "\n",
    "#Case 3: else in while statement\n",
    "count = 0 \n",
    "while count < 5:\n",
    "    print (count, \" is less than 5\")\n",
    "    count += 1 \n",
    "else:\n",
    "    print (count, \" is not less than 5\")"
   ]
  },
  {
   "cell_type": "code",
   "execution_count": null,
   "metadata": {},
   "outputs": [],
   "source": [
    "#For loops and formatted output\n",
    "for letter in 'Python': # First Example \n",
    "    print ('Current Letter :', letter)\n",
    "    \n",
    "for x in range(0, 3):\n",
    "    print (\"We're on time %d\" % (x))\n",
    "\n",
    "#finds prime numbers between 10 and 20\n",
    "for num in range(10,20): #to iterate between 10 to 20\n",
    "    for i in range(2,num): #to iterate on the factors of the number \n",
    "        if num%i == 0: #to determine the first factor \n",
    "            j=num/i #to calculate the second factor \n",
    "            print ('%d equals %d * %d' % (num,i,j)) \n",
    "            break #to move to the next number, the #first FOR \n",
    "    else: # else part of the loop\n",
    "        print (num, 'is a prime number')"
   ]
  },
  {
   "cell_type": "code",
   "execution_count": null,
   "metadata": {},
   "outputs": [],
   "source": [
    "#while vs for\n",
    "#for is much like an iterator rather than a loop\n",
    "colors = [\"red\", \"green\", \"blue\", \"purple\"]\n",
    "i = 0\n",
    "while i < len(colors):\n",
    "    print(colors[i])\n",
    "    i += 1\n",
    "\n",
    "for i in range(len(colors)):    #BAD implementation\n",
    "    print(colors[i])\n",
    "\n",
    "for color in colors:  #PREFERRABLE\n",
    "    print(color)\n",
    "\n",
    "#enumeration on a list and use in for\n",
    "my_list = ['apple', 'banana', 'grapes', 'pear']\n",
    "for c, value in enumerate(my_list, 1): \n",
    "\tprint(c, value) "
   ]
  }
 ],
 "metadata": {
  "kernelspec": {
   "display_name": "Python 3",
   "language": "python",
   "name": "python3"
  },
  "language_info": {
   "codemirror_mode": {
    "name": "ipython",
    "version": 3
   },
   "file_extension": ".py",
   "mimetype": "text/x-python",
   "name": "python",
   "nbconvert_exporter": "python",
   "pygments_lexer": "ipython3",
   "version": "3.8.5"
  }
 },
 "nbformat": 4,
 "nbformat_minor": 4
}
