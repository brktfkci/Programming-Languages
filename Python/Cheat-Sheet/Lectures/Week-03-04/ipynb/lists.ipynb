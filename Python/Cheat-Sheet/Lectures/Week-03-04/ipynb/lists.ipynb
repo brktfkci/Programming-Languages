{
 "cells": [
  {
   "cell_type": "code",
   "execution_count": null,
   "metadata": {},
   "outputs": [],
   "source": [
    "# -*- coding: utf-8 -*-\n",
    "\"\"\"\n",
    "Created on Mon Oct 23 14:31:22 2020\n",
    "@author: gokcol\n",
    "Common operations on lists\n",
    "\"\"\""
   ]
  },
  {
   "cell_type": "code",
   "execution_count": null,
   "metadata": {},
   "outputs": [],
   "source": [
    "#sample strings\n",
    "s1,s2,s3=\"hello\",\"Ozyegin Univ.\", \"Python is the best, isn't it?\"\n",
    "\n",
    "#create a list\n",
    "colors = [\"red\",\"green\",\"blue\",\"yellow\",\"black\",\"white\"]\n",
    "#Bad implementation\n",
    "for i in range(len(colors)):\n",
    "    print (colors[i],end=\"/\")\n",
    "\n",
    "#Python way\n",
    "print(\"\\n\")\n",
    "for cc in colors:\n",
    "    print (cc,end=\"/\")\n"
   ]
  },
  {
   "cell_type": "code",
   "execution_count": null,
   "metadata": {},
   "outputs": [],
   "source": [
    "# create an empty list (two ways) \n",
    "empty_list = [] \n",
    "empty_list2 = list()\n",
    "\n",
    "# create a list \n",
    "friends = ['ali', 'veli', 'ayse']\n",
    "print (\"Original list=>\", friends)"
   ]
  },
  {
   "cell_type": "code",
   "execution_count": null,
   "metadata": {},
   "outputs": [],
   "source": [
    "# examine a list \n",
    "tmp=friends[0] #first element in the list\n",
    "n=len(friends) #number of elements in the list\n",
    "print(tmp,n)"
   ]
  },
  {
   "cell_type": "code",
   "execution_count": null,
   "metadata": {},
   "outputs": [],
   "source": [
    "# modify a list (does not return the list) \n",
    "friends.append('lisa') # append element to end \n",
    "print(\"lisa added\", friends)\n",
    "\n",
    "friends.extend(['smith', 'john']) #append multiple elements to end \n",
    "print(\"smith and john added\",friends)\n",
    "\n",
    "friends.insert(0, 'can') # insert elem at index 0 (shifts everything right)\n",
    "print(\"can added at zero=>\",friends)\n",
    "\n",
    "# concatenate lists (slower than 'extend' method) \n",
    "allfriends = friends + ['ned', 'jon', 'snow']\n",
    "print (allfriends)"
   ]
  },
  {
   "cell_type": "code",
   "execution_count": null,
   "metadata": {},
   "outputs": [],
   "source": [
    "#removind an element from the list\n",
    "#different options\n",
    "friends.remove('veli') \n",
    "print(\"veli removed\", friends)\n",
    "\n",
    "print(\"zeroth is popped&removed=>\", friends.pop(0) )\n",
    "print(friends)\n",
    "\n",
    "del friends[0] \n",
    "print(\"zeroth is deleted=>\", friends)"
   ]
  },
  {
   "cell_type": "code",
   "execution_count": null,
   "metadata": {},
   "outputs": [],
   "source": [
    "friends[0] = 'mehmet'\n",
    "print(\"zeroth is updated to -mehmet-=>\", friends)\n",
    "\n",
    "# find elements in a list \n",
    "n=friends.count('ali') # counts the number of instances\n",
    "allfriends.index('ned') # # returns index of first instance"
   ]
  },
  {
   "cell_type": "code",
   "execution_count": null,
   "metadata": {},
   "outputs": [],
   "source": [
    "# list slicing [start:end:step] \n",
    "weekdays = ['mon', 'tues', 'wed', 'thurs', 'fri'] \n",
    "print (\"Original list :\", weekdays)\n",
    "print (\"Element 0 :\",weekdays[0]) # element 0 \n",
    "print (\"Elements 0,1,2 :\",weekdays[0:3]) # elements 0, 1, 2 \n",
    "print (\"Elements 0,1,2 :\",weekdays[:3]) # elements 0, 1, 2 \n",
    "print (\"Elements 3 and 4 :\",weekdays[3:]) # elements 3, 4 \n",
    "print (\"Last element :\",weekdays[-1]) # last element (element 4) \n",
    "print (\"Every second elements:\",weekdays[::2]) # every 2nd element (0, 2, 4) \n",
    "print (\"Backward :\",weekdays[::-1]) # backwards (4, 3, 2, 1, 0)"
   ]
  },
  {
   "cell_type": "code",
   "execution_count": null,
   "metadata": {},
   "outputs": [],
   "source": [
    "# sort a list in place (modifies but does not return the list) \n",
    "allfriends.sort() \n",
    "allfriends.sort(reverse=True) # sort in reverse \n",
    "allfriends.sort(key=len) # sort by a key (value is a function name)\n",
    "\n",
    "# insert into an already sorted list, and keep it sorted \n",
    "num = [10, 20, 40, 50] \n",
    "from bisect import insort #binary search algorithm \n",
    "insort(num, 30) #30 is added to the list\n",
    "\n",
    "# create a second reference to the same list \n",
    "same_num = num \n",
    "same_num[0] = 0 # modifies both 'num' and 'same_num'\n",
    "\n",
    "# copy a list (two ways) \n",
    "new_num = num[:] \n",
    "new_num = list(num)\n",
    "\n",
    "# examine objects \n",
    "num is same_num #returns True (checks if they are the same object) \n",
    "num is new_num  #returns False\n",
    "num == same_num #returns True (checks if they’ve same contents)\n",
    "num == new_num  #returns True\n",
    "\n",
    "# split a string into a list of substrings separated by a delimiter \n",
    "s='I like you'\n",
    "s.split(' ') # returns ['I', 'like', 'you'] \n",
    "s.split() # equivalent (since space is the default delimiter) \n",
    "s2 = 'a, an, the' \n",
    "s2.split(',') # returns ['a', ' an', ' the']\n",
    "\n",
    "# join a list of strings into one string using a delimiter \n",
    "fav = ['game', 'of', 'thrones'] \n",
    "' '.join(fav) # returns game of thrones'"
   ]
  },
  {
   "cell_type": "code",
   "execution_count": null,
   "metadata": {},
   "outputs": [],
   "source": [
    "#simple iteration over lists\n",
    "# Program to find the sum of all numbers stored in a list\n",
    "# List of numbers\n",
    "numbers = [6, 5, 3, 8, 4, 2, 5, 4, 11]\n",
    "tot = 0\n",
    "# iterate over the list\n",
    "for val in numbers:\n",
    "\ttot = tot+val\n",
    "print(\"The sum is\", tot)\n",
    "print(\"Or, sum(numbers) gives\", sum(numbers))"
   ]
  },
  {
   "cell_type": "code",
   "execution_count": null,
   "metadata": {},
   "outputs": [],
   "source": [
    "#enumeration over lists\n",
    "my_list = ['apple', 'banana', 'grapes', 'pear'’]\n",
    "for c, value in enumerate(my_list, 1):\n",
    "           print(c, value) "
   ]
  },
  {
   "cell_type": "code",
   "execution_count": null,
   "metadata": {},
   "outputs": [],
   "source": [
    "#list comprehensions\n",
    "multiples = [i for i in range(30) if i % 3 == 0] \n",
    "print(multiples) "
   ]
  },
  {
   "cell_type": "code",
   "execution_count": null,
   "metadata": {},
   "outputs": [],
   "source": [
    "#list comprehensions\n",
    "squared = [x**2 for x in range(10)]\n",
    "print(squared) \n",
    "\n",
    "num_list = [y for y in range(100) if y % 2 == 0 if y % 5 == 0]\n",
    "print(num_list)\n",
    "\n",
    "obj = [\"Even\" if i%2==0 else \"Odd\" for i in range(10)]\n",
    "print(obj)\n",
    "\n",
    "matrix = [[1, 2], [3,4], [5,6], [7,8]]\n",
    "t = [[row[i] for row in matrix] for i in range(2)]\n",
    "print (t)"
   ]
  },
  {
   "cell_type": "code",
   "execution_count": null,
   "metadata": {},
   "outputs": [],
   "source": []
  }
 ],
 "metadata": {
  "kernelspec": {
   "display_name": "Python 3",
   "language": "python",
   "name": "python3"
  },
  "language_info": {
   "codemirror_mode": {
    "name": "ipython",
    "version": 3
   },
   "file_extension": ".py",
   "mimetype": "text/x-python",
   "name": "python",
   "nbconvert_exporter": "python",
   "pygments_lexer": "ipython3",
   "version": "3.8.5"
  }
 },
 "nbformat": 4,
 "nbformat_minor": 4
}
