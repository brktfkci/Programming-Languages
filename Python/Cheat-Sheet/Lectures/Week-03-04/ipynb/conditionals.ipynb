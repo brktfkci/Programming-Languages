{
 "cells": [
  {
   "cell_type": "code",
   "execution_count": 1,
   "metadata": {},
   "outputs": [
    {
     "name": "stdout",
     "output_type": "stream",
     "text": [
      "positive\n",
      "positive\n",
      "positive\n",
      "3.5  is something else\n"
     ]
    }
   ],
   "source": [
    "#conditionals -extra\n",
    "# if statement \n",
    "x=50\n",
    "if x > 0:\n",
    "    print('positive') # if/else statement \n",
    "    \n",
    "if x > 0:\n",
    "    print('positive') \n",
    "else:\n",
    "    print('zero or negative')\n",
    "\n",
    "if x > 0:\n",
    "    print('positive') \n",
    "elif x == 0:\n",
    "    print('zero') \n",
    "else: \n",
    "    print('negative')\n",
    "\n",
    "a=3.5 \n",
    "if (type(a) == int):\n",
    "    print(a, \" is int\") \n",
    "else:\n",
    "    print(a, \" is something else\")"
   ]
  },
  {
   "cell_type": "code",
   "execution_count": null,
   "metadata": {},
   "outputs": [],
   "source": []
  }
 ],
 "metadata": {
  "kernelspec": {
   "display_name": "Python 3",
   "language": "python",
   "name": "python3"
  },
  "language_info": {
   "codemirror_mode": {
    "name": "ipython",
    "version": 3
   },
   "file_extension": ".py",
   "mimetype": "text/x-python",
   "name": "python",
   "nbconvert_exporter": "python",
   "pygments_lexer": "ipython3",
   "version": "3.8.5"
  }
 },
 "nbformat": 4,
 "nbformat_minor": 4
}
