{
 "cells": [
  {
   "cell_type": "code",
   "execution_count": null,
   "metadata": {},
   "outputs": [],
   "source": [
    "#!/usr/bin/env python3\n",
    "# -*- coding: utf-8 -*-\n",
    "\"\"\"\n",
    "File I/O in Python\n",
    "Created on Oct 24 18:42:26 2019\n",
    "@author: gokcol\n",
    "\"\"\""
   ]
  },
  {
   "cell_type": "code",
   "execution_count": null,
   "metadata": {},
   "outputs": [],
   "source": [
    "#writing to a file\n",
    "f = open(\"testOZU.txt\",'w',encoding = 'utf-8')\n",
    "f.write(\"Hello world!!\\n\")\n",
    "f.write(\"This file\\n\\n\")\n",
    "f.write(\"contains several lines\\n\") \n",
    "f.write(\"even some utf-8 chars Ğ İ € \\n\") \n",
    "f.close()"
   ]
  },
  {
   "cell_type": "code",
   "execution_count": null,
   "metadata": {},
   "outputs": [],
   "source": [
    "#reading from testOZU.txt\n",
    "f = open(\"testOZU.txt\", 'r', encoding = 'utf-8')\n",
    "x1 = f.read(4)    # read the first 4 UTF8 data => 'Hell’\n",
    "x2 = f.read(4)    # read the next 4 data => 'o wo’\n",
    "x3 = f.read()      # read the rest => 'rld!!\\nThis file\\n\\ncontains ...’\n",
    "x4 = f.read()     # further reading returns empty sting => '' \n",
    "f.close()\n",
    "print (\"first read: \", x1)\n",
    "print (\"second read: \", x2)\n",
    "print (\"third read: \", x3)\n",
    "print (\"last read: \", x4)"
   ]
  },
  {
   "cell_type": "code",
   "execution_count": null,
   "metadata": {},
   "outputs": [],
   "source": [
    "#We can read a file line by line \n",
    "#until it ends using for loop:\n",
    "f = open(\"testOZU.txt\", 'r', encoding = 'utf-8')\n",
    "for line in f:\n",
    "    print (\"Line is read =>\", line)\n",
    "close(f)"
   ]
  },
  {
   "cell_type": "code",
   "execution_count": 16,
   "metadata": {},
   "outputs": [
    {
     "name": "stdout",
     "output_type": "stream",
     "text": [
      "Hello world!!\n",
      "\n",
      "contains several lines\n",
      "\n"
     ]
    }
   ],
   "source": [
    "#readline() reads a whole line at a time:\n",
    "f = open(\"testOZU.txt\", 'r', encoding = 'utf-8')\n",
    "x = f.readline()\n",
    "f.readline()\n",
    "f.readline()\n",
    "y = f.readline()\n",
    "f.readline()\n",
    "print (x); print (y)\n",
    "f.close()"
   ]
  },
  {
   "cell_type": "code",
   "execution_count": 18,
   "metadata": {},
   "outputs": [
    {
     "name": "stdout",
     "output_type": "stream",
     "text": [
      "['Hello world!!\\n', 'This file\\n', '\\n', 'contains several lines\\n', 'even some utf-8 chars Ğ İ € \\n']\n",
      "Hello world!!\n",
      "\n",
      "This file\n",
      "\n",
      "contains several lines\n",
      "\n"
     ]
    }
   ],
   "source": [
    "#readlines() reads all the lines:\n",
    "f = open(\"testOZU.txt\", 'r', encoding = 'utf-8')\n",
    "x = f.readlines()\n",
    "print (x)\n",
    "print (x[0])\n",
    "print (x[1])\n",
    "print (x[3])"
   ]
  },
  {
   "cell_type": "code",
   "execution_count": 19,
   "metadata": {},
   "outputs": [
    {
     "name": "stdout",
     "output_type": "stream",
     "text": [
      "First line of the file : numbers\n",
      "\n",
      "Read from file as a string => ['1', '2', '3', '4', '5\\n']\n",
      "converted to numbers, and a list is created => [1, 2, 3, 4, 5]\n",
      "Sum of numbers in the list => 15\n",
      "Read from file as a string => ['9', '2', '7', '5', '-3\\n']\n",
      "converted to numbers, and a list is created => [9, 2, 7, 5, -3]\n",
      "Sum of numbers in the list => 20\n",
      "Read from file as a string => ['1', '1', '1', '1', '1\\n']\n",
      "converted to numbers, and a list is created => [1, 1, 1, 1, 1]\n",
      "Sum of numbers in the list => 5\n",
      "Read from file as a string => ['10', '0', '1', '-1', '1\\n']\n",
      "converted to numbers, and a list is created => [10, 0, 1, -1, 1]\n",
      "Sum of numbers in the list => 11\n",
      "Read from file as a string => ['2', '2', '2', '-1', '-1\\n']\n",
      "converted to numbers, and a list is created => [2, 2, 2, -1, -1]\n",
      "Sum of numbers in the list => 4\n",
      "Read from file as a string => ['6', '0', '1', '-4', '2']\n",
      "converted to numbers, and a list is created => [6, 0, 1, -4, 2]\n",
      "Sum of numbers in the list => 5\n"
     ]
    }
   ],
   "source": [
    "# Open a file for reading - ozu.txt is in the same folder as .pynb file\n",
    "ff = open(\"ozu.txt\", \"r\")\n",
    "x =ff.readline()\n",
    "print (\"First line of the file :\", x)\n",
    "for line in ff:\n",
    "    print(\"Read from file as a string =>\", line.split(\",\")) \n",
    "    aa = [int(a) for a in line.split(\",\")]\n",
    "    print (\"converted to numbers, and a list is created =>\", aa)\n",
    "    print (\"Sum of numbers in the list =>\", sum(aa))"
   ]
  },
  {
   "cell_type": "code",
   "execution_count": null,
   "metadata": {},
   "outputs": [],
   "source": [
    "\n"
   ]
  },
  {
   "cell_type": "code",
   "execution_count": null,
   "metadata": {},
   "outputs": [],
   "source": [
    "#Extra \n",
    "# Open a file\n",
    "ff = open(\"foo.txt\", \"w\")\n",
    "ff.write(\"Python is a great language.\\nYeah its great!!\\nOzU students are great\\n\");\n",
    "\n",
    "# Close opend file\n",
    "ff.close()\n",
    "\n",
    "# Open a file\n",
    "fo = open(\"foo.txt\", \"r+\")\n",
    "str = fo.read(10);\n",
    "print (\"Read String is : \", str)\n",
    "\n",
    "# Check current position\n",
    "position = fo.tell();\n",
    "print (\"Current file position : \", position)\n",
    "\n",
    "# Reposition pointer at the beginning once again\n",
    "position = fo.seek(0, 0);\n",
    "str = fo.read(10);\n",
    "print (\"Again read String is : \", str)\n",
    "\n",
    "print (\"Reading the file from the beginning...\\n----------------\\n\")\n",
    "position = fo.seek(0, 0) #go back again!!\n",
    "for line in fo: #read line by line\n",
    "   print(line, end = '')\n",
    "\n",
    "# Close opend file\n",
    "fo.close()"
   ]
  }
 ],
 "metadata": {
  "kernelspec": {
   "display_name": "Python 3",
   "language": "python",
   "name": "python3"
  },
  "language_info": {
   "codemirror_mode": {
    "name": "ipython",
    "version": 3
   },
   "file_extension": ".py",
   "mimetype": "text/x-python",
   "name": "python",
   "nbconvert_exporter": "python",
   "pygments_lexer": "ipython3",
   "version": "3.8.5"
  }
 },
 "nbformat": 4,
 "nbformat_minor": 4
}
