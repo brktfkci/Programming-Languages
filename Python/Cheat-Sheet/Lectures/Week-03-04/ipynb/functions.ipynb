{
 "cells": [
  {
   "cell_type": "markdown",
   "metadata": {},
   "source": [
    "Functions - EE393\n",
    "------------------"
   ]
  },
  {
   "cell_type": "code",
   "execution_count": null,
   "metadata": {},
   "outputs": [],
   "source": [
    "#void function\n",
    "def sayHello():\n",
    "    print (\"Hello\")\n",
    "\n",
    "def sayHello2(name):\n",
    "    print (\"Hello \", name)\n",
    "\n",
    "def sayHello_n_times(n):\n",
    "    for i in range(n):\n",
    "        print (\"Hello\",end=\" \")\n",
    "\n",
    "def giveMyMsg(name,msg):\n",
    "    print (\"Hello \", name)\n",
    "    print (\"Here is your message: \", msg)"
   ]
  },
  {
   "cell_type": "code",
   "execution_count": null,
   "metadata": {},
   "outputs": [],
   "source": [
    "sayHello()\n",
    "sayHello2(\"Özyeğin Univ.\")\n",
    "sayHello_n_times(4)\n",
    "giveMyMsg(\"Jon Snow\", \"Winter is coming!\")"
   ]
  },
  {
   "cell_type": "code",
   "execution_count": null,
   "metadata": {},
   "outputs": [],
   "source": [
    "#simple functions returning a value\n",
    "def isEven(n):\n",
    "    if (n%2==0):\n",
    "        return True\n",
    "    return False    "
   ]
  },
  {
   "cell_type": "code",
   "execution_count": null,
   "metadata": {},
   "outputs": [],
   "source": [
    "n = 177\n",
    "print (isEven(n))"
   ]
  },
  {
   "cell_type": "code",
   "execution_count": null,
   "metadata": {},
   "outputs": [],
   "source": [
    "#finds root of ax+b=0\n",
    "def findRoot(a,b):\n",
    "    x = -b/a\n",
    "    return x"
   ]
  },
  {
   "cell_type": "code",
   "execution_count": null,
   "metadata": {},
   "outputs": [],
   "source": [
    "c1, c2 = 5, 12\n",
    "root = findRoot (c1, c2)\n",
    "print (\"Root is \", root)\n"
   ]
  },
  {
   "cell_type": "code",
   "execution_count": null,
   "metadata": {},
   "outputs": [],
   "source": [
    "#finds root of ax+b=0\n",
    "#if second parameter is not supplied, it is -1\n",
    "def findRoot(a,b=-1):\n",
    "    x = -b/a\n",
    "    return x"
   ]
  },
  {
   "cell_type": "code",
   "execution_count": null,
   "metadata": {},
   "outputs": [],
   "source": [
    "print (findRoot(8)) #8x-1=0"
   ]
  },
  {
   "cell_type": "code",
   "execution_count": null,
   "metadata": {},
   "outputs": [],
   "source": [
    "#finds root of ax+b=0\n",
    "#default parameters\n",
    "def findRoot(a=1,b=-1):\n",
    "    import math\n",
    "    if (a==0): \n",
    "        return math.nan\n",
    "    x = -b/a\n",
    "    return x"
   ]
  },
  {
   "cell_type": "code",
   "execution_count": null,
   "metadata": {},
   "outputs": [],
   "source": [
    "print (findRoot(b=-4, a=7)) #7x-4=0"
   ]
  },
  {
   "cell_type": "code",
   "execution_count": null,
   "metadata": {},
   "outputs": [],
   "source": [
    "aa=10\n",
    "print (findRoot(aa,5)) #10x-5=0"
   ]
  },
  {
   "cell_type": "code",
   "execution_count": null,
   "metadata": {},
   "outputs": [],
   "source": [
    "print (findRoot(0,1)) #0x+5=0"
   ]
  },
  {
   "cell_type": "code",
   "execution_count": null,
   "metadata": {},
   "outputs": [],
   "source": [
    "def sumAll(a,b,c):\n",
    "    d=a+b+c\n",
    "    return d,a,b"
   ]
  },
  {
   "cell_type": "code",
   "execution_count": null,
   "metadata": {},
   "outputs": [],
   "source": [
    "mySum=sumAll(1,2,3)\n",
    "d=sumAll(1,2,3)\n",
    "print (d)"
   ]
  },
  {
   "cell_type": "code",
   "execution_count": null,
   "metadata": {},
   "outputs": [],
   "source": [
    "def combineLists(l1,l2):\n",
    "    return l1+l2"
   ]
  },
  {
   "cell_type": "code",
   "execution_count": null,
   "metadata": {},
   "outputs": [],
   "source": [
    "a=[1,2,3,\"hello\"]\n",
    "b=[2+5j,3*\"OzU\",a]\n",
    "c=combineLists(a,b)\n",
    "print (c)"
   ]
  },
  {
   "cell_type": "code",
   "execution_count": null,
   "metadata": {},
   "outputs": [],
   "source": []
  }
 ],
 "metadata": {
  "kernelspec": {
   "display_name": "Python 3",
   "language": "python",
   "name": "python3"
  },
  "language_info": {
   "codemirror_mode": {
    "name": "ipython",
    "version": 3
   },
   "file_extension": ".py",
   "mimetype": "text/x-python",
   "name": "python",
   "nbconvert_exporter": "python",
   "pygments_lexer": "ipython3",
   "version": "3.8.5"
  }
 },
 "nbformat": 4,
 "nbformat_minor": 4
}
