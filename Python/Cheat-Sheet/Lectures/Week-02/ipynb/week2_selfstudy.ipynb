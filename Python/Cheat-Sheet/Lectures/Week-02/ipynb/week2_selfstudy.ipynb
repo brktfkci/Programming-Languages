{
 "cells": [
  {
   "cell_type": "markdown",
   "metadata": {},
   "source": [
    "EE393 - Week 2 Self study exercises\n",
    "===================================\n",
    "- Your task is either to write or modify code to accomplish what's given in the comments area\n",
    "- Submit the completed Jupyter notebook to LMS.\n",
    "- Name it as EE393_name.surname_date_of_submission (ddmmyy)\n",
    "- Due 19.10.20\n",
    "- Cheating will not be tolerated."
   ]
  },
  {
   "cell_type": "markdown",
   "metadata": {},
   "source": [
    "#Print your name, surname and student number here using markdown\n",
    "- Student Name: Burak Tufekci\n",
    "- Student No: S017309"
   ]
  },
  {
   "cell_type": "markdown",
   "metadata": {},
   "source": [
    "#print the version of python you are using\n",
    "- 3.8\n"
   ]
  },
  {
   "cell_type": "code",
   "execution_count": 22,
   "metadata": {},
   "outputs": [
    {
     "name": "stdout",
     "output_type": "stream",
     "text": [
      "a) 1.7320508075688774\n",
      "b) 0.6065306597126334\n",
      "c) 0.1418970546041639\n",
      "Reqv = 0.3\n",
      "result = 0x11\n",
      "Given y is (5+7j) and the complex conjugate of y is (5-7j)\n"
     ]
    }
   ],
   "source": [
    "# find and print the results of the following computations : \n",
    "import math\n",
    "# a) cotangent of pi/6, \n",
    "print(\"a) \", 1/math.tan(math.pi/6), sep='')\n",
    "# b) square root of 1/e, \n",
    "print(\"b) \", math.sqrt(1/math.e), sep='')\n",
    "# c) arc tangent ((1-x)/(1+x)) where x = 0.75\n",
    "print(\"c) \", math.atan(0.25/1.75), sep='')\n",
    "# d) Equivalent resistence, Reqv, if two resistances R1 and R2 are parallelly connected. \n",
    "# Take R1=5 ohm, R2=10 ohm\n",
    "R1 = 5\n",
    "R2 = 10\n",
    "Reqv = ((R1+R2)/(R1*R2))\n",
    "print(\"Reqv = \", Reqv, sep='')\n",
    "# Convert number 17.6 to int, first then convert the result to hexadecimal\n",
    "x = 17.6\n",
    "result = hex(int(x))\n",
    "print(\"result = \", result, sep='')\n",
    "# For a given complex number a+bj, find and print the conjugate \n",
    "a = 5\n",
    "b = 7\n",
    "y = complex(a,b)\n",
    "y_bar = complex(a,-b)\n",
    "print(\"Given y is \", y, \" and the complex conjugate of y is \", y_bar, sep='')\n"
   ]
  },
  {
   "cell_type": "code",
   "execution_count": 26,
   "metadata": {},
   "outputs": [
    {
     "name": "stdout",
     "output_type": "stream",
     "text": [
      "number of letter in the string is  9\n"
     ]
    }
   ],
   "source": [
    "\"\"\"\n",
    "Assign each of the following to variables: 99, 3.1415, 1/7, \"Hello OzU\", 4 + 6j, [1,2,3,10] \n",
    "print number of letters in the string\n",
    "\"\"\"\n",
    "x = 99\n",
    "y = 3.1415\n",
    "z = 1/7\n",
    "str_1 = \"Hello OzU\"\n",
    "k = complex(4,6)\n",
    "list_1 = [1,2,3,10]\n",
    "print(\"number of letter in the string is \", len(str_1))"
   ]
  },
  {
   "cell_type": "code",
   "execution_count": 27,
   "metadata": {},
   "outputs": [
    {
     "name": "stdout",
     "output_type": "stream",
     "text": [
      "<class 'int'>\n",
      "<class 'float'>\n",
      "<class 'float'>\n",
      "<class 'str'>\n",
      "<class 'complex'>\n",
      "<class 'list'>\n"
     ]
    }
   ],
   "source": [
    "#Determine and then print the data types of the variables in the previous cell\n",
    "print(type(x))\n",
    "print(type(y))\n",
    "print(type(z))\n",
    "print(type(str_1))\n",
    "print(type(k))\n",
    "print(type(list_1))"
   ]
  },
  {
   "cell_type": "code",
   "execution_count": 44,
   "metadata": {},
   "outputs": [
    {
     "name": "stdout",
     "output_type": "stream",
     "text": [
      "The character number is  100\n",
      "The word number is  13\n",
      "Imagination is more important than wisdom. wisdom is limited. Imagination encircles the world.\n",
      "The sentence number is  3\n",
      "Imagination is more important than wisdom\n",
      " wisdom is limited\n",
      " Imagination encircles the world\n",
      "\n"
     ]
    }
   ],
   "source": [
    "#Input into the variable sentence the following string.\n",
    "#\n",
    "#\"Imagination is more important than knowledge. Knowledge is limited. Imagination encircles the world.\"\n",
    "#Write code to answer the following questions:\n",
    "#How many characters? How many words? Replace \"knowledge\" and \"Knowledge\" with \"wisdom\" properly and\n",
    "# print the new sentences? How many sentences? Split eavh of the sentences and print each of them.\n",
    "str_2 = \"Imagination is more important than knowledge. Knowledge is limited. Imagination encircles the world.\"\n",
    "print(\"The character number is \", len(str_2))\n",
    "print(\"The word number is \", len(str_2.split()))\n",
    "str_2 = str_2.replace('knowledge', 'wisdom')\n",
    "str_2 = str_2.replace('Knowledge', 'wisdom')\n",
    "print(str_2)\n",
    "print(\"The sentence number is \", len(str_2.split('.'))-1)\n",
    "for ii in str_2.split('.'):\n",
    "    print(ii)"
   ]
  },
  {
   "cell_type": "code",
   "execution_count": 46,
   "metadata": {},
   "outputs": [
    {
     "name": "stdout",
     "output_type": "stream",
     "text": [
      "[0, 7, 14, 21, 28, 35, 42, 49, 56, 63]\n"
     ]
    }
   ],
   "source": [
    "#Write a program that store the first 10 numbers which are divisable by 7 \n",
    "#into a variable called div_7. Print those numbers\n",
    "div_7 = []\n",
    "count = 0\n",
    "ii = 0\n",
    "while count < 10:\n",
    "    if(ii % 7 == 0):\n",
    "        count += 1\n",
    "        div_7.append(ii)\n",
    "    ii +=1\n",
    "print(div_7)"
   ]
  },
  {
   "cell_type": "code",
   "execution_count": 53,
   "metadata": {},
   "outputs": [
    {
     "name": "stdout",
     "output_type": "stream",
     "text": [
      "1) \n",
      "------------------\n",
      "5\n",
      "6\n",
      "5\n",
      "10\n",
      "4\n",
      "7\n",
      "------------------\n",
      "2) \n",
      "------------------\n",
      "Apple\n",
      "Orange\n",
      "Peach\n",
      "Strawberry\n",
      "Plum\n",
      "Avocado\n"
     ]
    }
   ],
   "source": [
    "#Ok, this one is challenging\n",
    "#fruit_collection = ['apple', 'orange', 'peach', 'strawberry', 'plum', 'avocado']\n",
    "#print (1) length of each list element and (2) the associated list element with first letter is capitalized\n",
    "fruit_collection = ['apple', 'orange', 'peach', 'strawberry', 'plum', 'avocado']\n",
    "ii = 0\n",
    "jj = 0\n",
    "print(\"1) \")\n",
    "print(\"------------------\")\n",
    "while ii < len(fruit_collection):\n",
    "    print(len(fruit_collection[ii]))\n",
    "    ii += 1\n",
    "print(\"------------------\")\n",
    "print(\"2) \")\n",
    "print(\"------------------\")\n",
    "while jj < len(fruit_collection):\n",
    "    print(fruit_collection[jj].capitalize())\n",
    "    jj += 1\n",
    "print(\"------------------\")"
   ]
  },
  {
   "cell_type": "code",
   "execution_count": null,
   "metadata": {},
   "outputs": [],
   "source": []
  }
 ],
 "metadata": {
  "kernelspec": {
   "display_name": "Python 3",
   "language": "python",
   "name": "python3"
  },
  "language_info": {
   "codemirror_mode": {
    "name": "ipython",
    "version": 3
   },
   "file_extension": ".py",
   "mimetype": "text/x-python",
   "name": "python",
   "nbconvert_exporter": "python",
   "pygments_lexer": "ipython3",
   "version": "3.8.3"
  }
 },
 "nbformat": 4,
 "nbformat_minor": 4
}
