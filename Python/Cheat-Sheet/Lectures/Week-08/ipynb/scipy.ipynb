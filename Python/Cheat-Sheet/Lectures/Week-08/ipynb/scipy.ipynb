{
 "cells": [
  {
   "cell_type": "code",
   "execution_count": null,
   "metadata": {},
   "outputs": [],
   "source": [
    "#scipy"
   ]
  },
  {
   "cell_type": "code",
   "execution_count": null,
   "metadata": {},
   "outputs": [],
   "source": [
    "import scipy.constants as sc\n",
    "print (\"Pi: {} , elementary charge: {}, Planck: {}\".format(sc.pi, sc.e, sc.h))\n",
    "print (\"Speed of light: {} , gravitational constant: {}, Avogadro: {}\".format(sc.c, sc.G, sc.Avogadro))\n",
    "print (\"Standard aptodphere in pascal {} , Boltzman constant: {}, km/h to m/s: {}\".format(sc.atm, sc.k, sc.kmh))\n",
    "print (\"And many more!!!!!\")\n"
   ]
  },
  {
   "cell_type": "code",
   "execution_count": null,
   "metadata": {},
   "outputs": [],
   "source": [
    "#Numerical Integration\n",
    "import scipy.integrate\n",
    "from numpy import exp\n",
    "\n",
    "def f(x):\n",
    "    return exp(-x**2)\n",
    "i = scipy.integrate.quad(f, 0, 1)\n",
    "print (i)"
   ]
  },
  {
   "cell_type": "code",
   "execution_count": null,
   "metadata": {},
   "outputs": [],
   "source": [
    "#Interpolation\n",
    "import numpy as np\n",
    "from scipy import interpolate\n",
    "import matplotlib.pyplot as plt\n",
    "\n",
    "x = np.linspace(0, 4, 12)\n",
    "y = np.cos(x**2/3+4)\n",
    "print (x,y)"
   ]
  },
  {
   "cell_type": "code",
   "execution_count": null,
   "metadata": {},
   "outputs": [],
   "source": [
    "#plot points\n",
    "plt.plot(x, y,'o')\n",
    "plt.show()"
   ]
  },
  {
   "cell_type": "code",
   "execution_count": null,
   "metadata": {},
   "outputs": [],
   "source": [
    "#linear and cubic interpolations\n",
    "f1 = interpolate.interp1d(x, y, kind = 'linear')\n",
    "f2 = interpolate.interp1d(x, y, kind = 'cubic')\n",
    "print (f2(3.7))"
   ]
  },
  {
   "cell_type": "code",
   "execution_count": null,
   "metadata": {},
   "outputs": [],
   "source": [
    "xnew = np.linspace(0, 4,30)\n",
    "plt.plot(x, y, 'o', xnew, f1(xnew), '-', xnew, f2(xnew), '--')\n",
    "plt.legend(['data', 'linear', 'cubic','nearest'], loc = 'best')\n",
    "plt.show()"
   ]
  },
  {
   "cell_type": "code",
   "execution_count": null,
   "metadata": {},
   "outputs": [],
   "source": [
    "#scipy cubic spline\n",
    "import matplotlib.pyplot as plt\n",
    "from scipy.interpolate import UnivariateSpline\n",
    "x = np.linspace(-3, 3, 50)\n",
    "y = np.exp(-x**2) + 0.1 * np.random.randn(50)\n",
    "plt.plot(x, y, 'ro', ms = 5)\n",
    "plt.show()"
   ]
  },
  {
   "cell_type": "code",
   "execution_count": null,
   "metadata": {},
   "outputs": [],
   "source": [
    "spl = UnivariateSpline(x, y)\n",
    "xs = np.linspace(-3, 3, 1000)\n",
    "#fine smoothing\n",
    "spl.set_smoothing_factor(1.1)\n",
    "plt.plot(xs, spl(xs), 'b', lw = 3)\n",
    "plt.show()"
   ]
  },
  {
   "cell_type": "code",
   "execution_count": null,
   "metadata": {},
   "outputs": [],
   "source": [
    "#scipy linalg\n",
    "#importing the scipy and numpy packages\n",
    "from scipy import linalg\n",
    "import numpy as np\n",
    "\n",
    "#Declaring the numpy arrays\n",
    "a = np.array([[1, 3, 5], [2, 5, 1], [2, 3, 8]])\n",
    "b = np.array([10, 8, 3])\n",
    "\n",
    "#Passing the values to the solve function\n",
    "x = linalg.solve(a, b)\n",
    "\n",
    "#printing the result array\n",
    "print (x)"
   ]
  },
  {
   "cell_type": "code",
   "execution_count": null,
   "metadata": {},
   "outputs": [],
   "source": [
    "import numpy as np\n",
    "from scipy.optimize import root\n",
    "def func(x):\n",
    "   return x*2 + 2 * np.cos(x)\n",
    "sol = root(func, 0.3, method=\"lm\")\n",
    "print (\"Solution response :\\n\", sol)\n",
    "print (\"Solution:\", sol[\"x\"])\n",
    "print (\"Error:\", sol[\"fun\"])"
   ]
  },
  {
   "cell_type": "code",
   "execution_count": null,
   "metadata": {},
   "outputs": [],
   "source": [
    "from scipy.optimize import minimize\n",
    "\n",
    "def eqn(x):\n",
    "  return x**2 + x + 2\n",
    "\n",
    "#use Broyden–Fletcher–Goldfarb–Shanno algorithm\n",
    "mymin = minimize(eqn, 0, method='BFGS')\n",
    "print(mymin)"
   ]
  }
 ],
 "metadata": {
  "kernelspec": {
   "display_name": "Python 3",
   "language": "python",
   "name": "python3"
  },
  "language_info": {
   "codemirror_mode": {
    "name": "ipython",
    "version": 3
   },
   "file_extension": ".py",
   "mimetype": "text/x-python",
   "name": "python",
   "nbconvert_exporter": "python",
   "pygments_lexer": "ipython3",
   "version": "3.8.5"
  }
 },
 "nbformat": 4,
 "nbformat_minor": 4
}
