{
 "cells": [
  {
   "cell_type": "markdown",
   "metadata": {},
   "source": [
    "<b>EE393 Pyhon for Engineers -23.11.2020</b><br>\n",
    "\n",
    "Numpy is the core library for scientific computing in Python. It provides a high-performance multidimensional array object, and tools for working with these arrays. If you are already familiar with MATLAB, you might find this tutorial useful to get started with Numpy.\n",
    "\n",
    "To use Numpy, we first need to import the numpy package"
   ]
  },
  {
   "cell_type": "code",
   "execution_count": null,
   "metadata": {},
   "outputs": [],
   "source": [
    "import numpy as np"
   ]
  },
  {
   "cell_type": "code",
   "execution_count": null,
   "metadata": {},
   "outputs": [],
   "source": [
    "#SPEED comparison between numpy and core python\n",
    "import numpy as np\n",
    "import time\n",
    " \n",
    "# size of arrays and lists\n",
    "size = 100000000  \n",
    " \n",
    "# declaring lists\n",
    "list1 = range(size)\n",
    "list2 = range(size)\n",
    "# declaring arrays\n",
    "array1 = np.arange(size)  \n",
    "array2 = np.arange(size)\n",
    " \n",
    "# list\n",
    "initialTime = time.time()\n",
    "resultantList = [(a * b) for a, b in zip(list1, list2)]\n",
    " \n",
    "# calculating execution time\n",
    "print(\"Time taken by Lists :\", \n",
    "      (time.time() - initialTime),\n",
    "      \"seconds\")\n",
    " \n",
    "# NumPy array\n",
    "initialTime = time.time()\n",
    "resultantArray = array1 * array2\n",
    "# calculating execution time \n",
    "print(\"Time taken by NumPy Arrays :\",\n",
    "      (time.time() - initialTime),\n",
    "      \"seconds\")"
   ]
  },
  {
   "cell_type": "code",
   "execution_count": null,
   "metadata": {},
   "outputs": [],
   "source": [
    "#creating 1D arrays (vectors)\n",
    "# as vectors from lists\n",
    "a = np.array([1,3,5,7,9]) #a is a 1-d array\n",
    "b = np.array([3,5,6,7,9])\n",
    "c = a + b\n",
    "print (c)\n",
    "print (type(c))\n",
    "print (c.shape)\n",
    "print (c.dtype)\n",
    "#Accessing array elements\n",
    "print (\"First: \", a[0])\n",
    "print (\"Last minus 1: \", a[-2])\n",
    "for x in a:   #ndarrays are iterable\n",
    "    print (x, end=\" \")"
   ]
  },
  {
   "cell_type": "code",
   "execution_count": null,
   "metadata": {},
   "outputs": [],
   "source": [
    "#numpy data types\n",
    "import numpy as np \n",
    "a=np.longdouble(27)\n",
    "print (np.dtype(a))\n",
    "print (a)"
   ]
  },
  {
   "cell_type": "code",
   "execution_count": null,
   "metadata": {},
   "outputs": [],
   "source": [
    "#normal Python programming tools are used!\n",
    "print (c[0])\n",
    "print (c) #c is an nd array\n",
    "for x in c:\n",
    "    print (x, type(x))\n",
    "c = np.append(c,77) #append a new value at the end of array\n",
    "for i in c: print (i,end= \" \")"
   ]
  },
  {
   "cell_type": "code",
   "execution_count": null,
   "metadata": {},
   "outputs": [],
   "source": [
    "#CREATING A MATRIX\n",
    "#more than one dimension!\n",
    "l = [[1, 2, 3], [3, 6, 9], [2, 4, 6]]  # create a list \n",
    "a = np.array(l)  # convert a list to an array \n",
    "print(a) \n",
    "print (a.shape)\n",
    "print(a.dtype)  # get type of an array \n",
    "M = np.array([[1, 2], [3, 4]])\n",
    "print (M.shape)\n",
    "print (M.dtype)"
   ]
  },
  {
   "cell_type": "code",
   "execution_count": null,
   "metadata": {},
   "outputs": [],
   "source": [
    "#checking number of dimensions, shape and size\n",
    "import numpy as np\n",
    "a = np.array(1+2j)\n",
    "b = np.array([0,2,4,6,8])\n",
    "c = np.array([[1,2,3], [5,8,13]])\n",
    "c2 = np.array([[1,2,3], [5,8,13],[1,1,1]])\n",
    "d = np.array([[[1, 2, 3,0], [5,8,13,0]], \n",
    "              [[21,34,55,0], [89,144,233,0]], \n",
    "              [[21,34,55,0], [89,144,233,0]]])\n",
    "print(\"dimension of a: {}, shape: {}\".format(a.ndim, a.shape))\n",
    "print(\"dimension of b: {}, shape: {}\".format(b.ndim, b.shape))\n",
    "print(\"dimension of c: {}, shape: {}\".format(c.ndim, c.shape))\n",
    "print(\"dimension of c2: {}, shape: {}\".format(c2.ndim, c2.shape))\n",
    "print(\"dimension of d: {}, shape: {}, size: {}\".format(d.ndim, d.shape, d.size))\n",
    "print (d)"
   ]
  },
  {
   "cell_type": "code",
   "execution_count": null,
   "metadata": {},
   "outputs": [],
   "source": [
    "# minimum dimensions- the result is a 2x2 array\n",
    "import numpy as np \n",
    "a = np.array([1, 2, 3,4,5], ndmin = 2) \n",
    "print (a)\n",
    "print (a.shape)"
   ]
  },
  {
   "cell_type": "code",
   "execution_count": null,
   "metadata": {},
   "outputs": [],
   "source": [
    "#we can specify dtype explicitly\n",
    "import numpy as np \n",
    "a = np.array([1, 2, 3], dtype = complex) \n",
    "print (a)\n",
    "b = np.array([1, 2, 3], dtype = float) \n",
    "print (b)"
   ]
  },
  {
   "cell_type": "code",
   "execution_count": null,
   "metadata": {},
   "outputs": [],
   "source": [
    "import numpy as np \n",
    "x = np.empty([3,2], dtype = int) \n",
    "print (x)\n",
    "#values are randomly assigned values in the memory"
   ]
  },
  {
   "cell_type": "code",
   "execution_count": null,
   "metadata": {},
   "outputs": [],
   "source": [
    "# array of five zeros. Default dtype is float \n",
    "import numpy as np \n",
    "x = np.zeros(5) \n",
    "print (x)"
   ]
  },
  {
   "cell_type": "code",
   "execution_count": null,
   "metadata": {},
   "outputs": [],
   "source": [
    "# array of five ones. Default dtype is float \n",
    "import numpy as np \n",
    "x = np.ones(5) \n",
    "print (x)\n",
    "y = np.ones([5,3], dtype=int)\n",
    "print (y)"
   ]
  },
  {
   "cell_type": "code",
   "execution_count": null,
   "metadata": {},
   "outputs": [],
   "source": [
    "#identity matrix\n",
    "I = np.eye(5)\n",
    "print (I)"
   ]
  },
  {
   "cell_type": "code",
   "execution_count": null,
   "metadata": {},
   "outputs": [],
   "source": [
    "import numpy as np\n",
    "# create a list\n",
    "l = [[1, 2, 3], [3, 6, 9], [2, 4, 6]]    \n",
    "a = np.array(l) # convert a list to an array\n",
    "print(a)\n",
    "print (a.shape)\n",
    "print(a.dtype) # get type of an array\n",
    "print (\"row:\", a[0])\n",
    "print (\"column:\", a[:,1])\n",
    "\n",
    "M = np.array([[1, 2], [3, 4]])\n",
    "print (M.shape)\n",
    "print (M.dtype)\n",
    "\n",
    "M = np.array([[1, 2], [3, 4]], dtype=complex)\n",
    "print (M)"
   ]
  },
  {
   "cell_type": "code",
   "execution_count": null,
   "metadata": {},
   "outputs": [],
   "source": [
    "#USE OF MATRICES\n",
    "print(\"Matrix a:\\n\", a)\n",
    "print(\"First row:\", a[0]) # this is just like a list of lists\n",
    "print(\"element at (1,2) :\", a[1, 2])   # arrays can be given comma separated indices\n",
    "print(a[1, 1:3]) # and slices\n",
    "\n",
    "print(a[:,1])\n",
    "a[1, 2] = -3\n",
    "print(\"a changed as\\n\",a)\n",
    "\n",
    "a[:, 0] = [2, -1, 5]\n",
    "print (\"see how first row is changed\")\n",
    "print(a)"
   ]
  },
  {
   "cell_type": "code",
   "execution_count": null,
   "metadata": {},
   "outputs": [],
   "source": [
    "#asarray\n",
    "#This function is similar to numpy.\n",
    "#It is useful for converting Python sequence into ndarray.\n",
    "import numpy as np \n",
    "x = [1,2,3]\n",
    "a = np.asarray(x, dtype = float) \n",
    "print (a)"
   ]
  },
  {
   "cell_type": "code",
   "execution_count": null,
   "metadata": {},
   "outputs": [],
   "source": [
    "import numpy as np \n",
    "s = list('Hello World')\n",
    "a = np.asarray(s, dtype = 'S1') \n",
    "print (a)"
   ]
  },
  {
   "cell_type": "code",
   "execution_count": null,
   "metadata": {},
   "outputs": [],
   "source": [
    "#COMPLEX DATA TYPE\n",
    "l = [[1, 2, 3], [3, 6, 9], [2, 4, 6]]  # create a list \n",
    "a = np.array(l)  # convert a list to an array \n",
    "print(a) \n",
    "print (a.shape)\n",
    "print(a.dtype)  # get type of an array \n",
    "M = np.array([[1+2j, 2-0.5j], [3, 4]], dtype=complex)\n",
    "print (M)"
   ]
  },
  {
   "cell_type": "code",
   "execution_count": null,
   "metadata": {},
   "outputs": [],
   "source": [
    "#Creating numpy arrays -using creation functions\n",
    "x = np.arange(0, 10, 1) # arguments: start, stop, step\n",
    "print (x)\n",
    "y=np.linspace(0, 10, 25) #arguments: start,stop,no.of points\n",
    "print (y)\n",
    "y = y.astype('complex')\n",
    "print (y)"
   ]
  },
  {
   "cell_type": "code",
   "execution_count": null,
   "metadata": {},
   "outputs": [],
   "source": [
    "#more examples for \"arrange\"\n",
    "d = np.arange(5)  # just like range() \n",
    "print(d) \n",
    "d[1] = 9.7 \n",
    "print(d)  # arrays keep their type even if elements changed \n",
    "print(d*0.4)  # operations create a new array, with new type \n",
    "d = np.arange(5, dtype=numpy.float)  \n",
    "print(d) \n",
    "y=np.arange(3, 7, 0.5)  # arbitrary start, stop and step \n",
    "z=np.array([ 3. , 3.5, 4. , 4.5, 5. , 5.5, 6. , 6.5]) \n",
    "print (y,z)\n"
   ]
  },
  {
   "cell_type": "code",
   "execution_count": null,
   "metadata": {},
   "outputs": [],
   "source": [
    "#np.arrange different uses\n",
    "x = np.arange(10)\n",
    "print (\"x =\",x)\n",
    "y = np.arange(5,10)\n",
    "z = np.arange(5,10,0.5)\n",
    "print (z)\n",
    "\n",
    "#reshape to a different dimension\n",
    "zz = np.arange(1,10).reshape(3,3)\n",
    "print (zz)\n"
   ]
  },
  {
   "cell_type": "code",
   "execution_count": null,
   "metadata": {},
   "outputs": [],
   "source": [
    "#linspace\n",
    "import numpy as np\n",
    "import matplotlib.pyplot as plt\n",
    "fig = plt.figure()\n",
    "ax = fig.add_subplot(111)\n",
    "N = 8\n",
    "y = np.zeros(N)\n",
    "x1 = np.linspace(0, 10, N, endpoint=True)\n",
    "p1 = plt.plot(x1, y, 'o')\n",
    "ax.set_xlim([-0.5,10.5])\n",
    "plt.show()"
   ]
  },
  {
   "cell_type": "code",
   "execution_count": null,
   "metadata": {},
   "outputs": [],
   "source": [
    "#linspace to create linearly spaced matrix-like things\n",
    "#For the first column; from 1 of (1,2) to 10 of (10,20), \n",
    "#put the increasing 10 numbers.\n",
    "#For the second column; from 2 of (1,2) to 20 of (10,20), \n",
    "#put the incresing 10 numbers.\n",
    "matr = np.linspace((1,2),(10,20),5)\n",
    "print (matr)\n",
    "print (matr[1])"
   ]
  },
  {
   "cell_type": "code",
   "execution_count": null,
   "metadata": {},
   "outputs": [],
   "source": [
    "#array creation and use\n",
    "#mgrid\n",
    "#random values in ndarrays\n",
    "x,y = np.mgrid[0:5, 0:5] # similar to meshgrid in MATLAB\n",
    "print (x)\n",
    "print (y)\n",
    "# random data\n",
    "z=np.random.rand(5,5)\n",
    "print (z)"
   ]
  },
  {
   "cell_type": "code",
   "execution_count": null,
   "metadata": {},
   "outputs": [],
   "source": [
    "#Creating arrays\n",
    "# a diagonal matrix\n",
    "a=np.diag([1,2,3])\n",
    "print (a)\n",
    "b = np.zeros(5) \n",
    "print(b) \n",
    "print (b.dtype)\n",
    "n = 1000 \n",
    "my_int_array = np.zeros(n, dtype=np.int) \n",
    "print (my_int_array.dtype) \n",
    "c = np.ones((3,3))\n",
    "print (c)"
   ]
  },
  {
   "cell_type": "code",
   "execution_count": null,
   "metadata": {},
   "outputs": [],
   "source": [
    "#useful ndarray functions : sum, max, min, mean\n",
    "x = np.array([[1,2,3],[4,5,6],[7,8,9]])\n",
    "print (\"x array is\\n\",x)\n",
    "print (\"ndim:\",x.ndim)\n",
    "print (\"Axis-0 sum is {}\".format(x.sum(axis=0)))\n",
    "print (\"Axis-1 sum is {}\".format(x.sum(axis=1)))\n",
    "print (\"Axis-0 max is {}\".format(x.max(axis=0)))\n",
    "print (\"Axis-1 min is {}\".format(x.min(axis=1)))\n",
    "print (\"Axis-1 mean is {}\".format(x.mean(axis=1)))\n",
    "print (\"Global sum is {}\".format(x.sum()))"
   ]
  },
  {
   "cell_type": "code",
   "execution_count": null,
   "metadata": {},
   "outputs": [],
   "source": [
    "#other functions\n",
    "#note that you can specify axis value in each of the functions\n",
    "arr = np.array([4.5, 2.3, 6.7, 1.2, 1.8, 5.5]) \n",
    "print (arr.sum())\n",
    "print (arr.mean())\n",
    "print (arr.std()) \n",
    "print (arr.max())\n",
    "print (arr.min())\n",
    "print (div_by_3.all()) \n",
    "print (div_by_3.any()) \n",
    "print (div_by_3.sum()) \n",
    "print (div_by_3.nonzero()) "
   ]
  },
  {
   "cell_type": "code",
   "execution_count": null,
   "metadata": {},
   "outputs": [],
   "source": [
    "#file I/O\n",
    "import os\n",
    "print(os.system('head testdata.txt'))\n",
    "data = np.genfromtxt('testdata.txt', delimiter=',', skip_header=1)\n",
    "print (data.shape)\n",
    "print (data)\n",
    "np.savetxt('datasaved.txt', data)"
   ]
  },
  {
   "cell_type": "code",
   "execution_count": null,
   "metadata": {},
   "outputs": [],
   "source": [
    "#file I/O\n",
    "M = np.random.rand(3,3)\n",
    "print (M)\n",
    "np.save('saved-matrix.npy', M)    #binary format!\n",
    "N=np.load('saved-matrix.npy')\n",
    "print (N)\n",
    "print (N.ndim, N.shape)"
   ]
  },
  {
   "cell_type": "code",
   "execution_count": null,
   "metadata": {},
   "outputs": [],
   "source": [
    "#numpy arrays are mutable\n",
    "#be careful when you create \n",
    "#another copy of an nd array\n",
    "x = np.array([1,2,3,4])\n",
    "y = x\n",
    "print (x is y)\n",
    "print (id(x), id(y))\n",
    "x[0] = 9\n",
    "print (y)\n",
    "x[0] = 1\n",
    "z = x[:]\n",
    "print (x is z)\n",
    "print (id(x), id(z))\n",
    "x[0] = 8\n",
    "print (z)"
   ]
  },
  {
   "cell_type": "code",
   "execution_count": null,
   "metadata": {},
   "outputs": [],
   "source": [
    "#numpy ndarray basic operations\n",
    "a = np.array([3,4,5])\n",
    "b = np.ones(3)\n",
    "print (\"a-b:\", a - b)\n",
    "\n",
    "a = np.array([[1,2],[3,4]])\n",
    "b = np.array([[1,2],[3,4]])\n",
    "print (\"a:\\n\",a)\n",
    "print (\"b:\\n\",b)\n",
    "print (\"a*b:\\n\", a * b)\n",
    "print (\"dot product of a and b:\\n\",np.dot(a,b))"
   ]
  },
  {
   "cell_type": "code",
   "execution_count": null,
   "metadata": {},
   "outputs": [],
   "source": [
    "#special addition and\n",
    "#multiplication operators\n",
    "a = np.zeros((2,2),dtype='float')\n",
    "a += 5\n",
    "print (a)\n",
    "a *= 5\n",
    "print (a)\n",
    "a = a + 2*a\n",
    "print (a)"
   ]
  },
  {
   "cell_type": "code",
   "execution_count": null,
   "metadata": {},
   "outputs": [],
   "source": [
    "#Concatenation of arrays\n",
    "a = np.array([1,2,3])\n",
    "b = np.array([4,5,6])\n",
    "c = np.array([7,8,9])\n",
    "a_h = np.hstack([a,b,c]) #horizontal stack\n",
    "a_v = np.vstack([a,b,c])\n",
    "print (a_h)\n",
    "print (a_v)"
   ]
  },
  {
   "cell_type": "code",
   "execution_count": null,
   "metadata": {},
   "outputs": [],
   "source": [
    "#array sort\n",
    "arr = np.array([4.5, 2.3, 6.7, 1.2, 1.8, 5.5]) \n",
    "arr.sort()  # acts on array itself \n",
    "print(arr) \n",
    "x = np.array([4.5, 2.3, 6.7, 1.2, 1.8, 5.5]) \n",
    "print (\"x is\\n\",x)\n",
    "xx=np.sort(x) \n",
    "print (xx)\n",
    "print(x) \n",
    "s = x.argsort() #sorts indice no.s wrt corresponding values\n",
    "print (s) \n",
    "print (x[s]) "
   ]
  },
  {
   "cell_type": "code",
   "execution_count": null,
   "metadata": {},
   "outputs": [],
   "source": [
    "#array creation and use -misc uses\n",
    "a = np.arange(4.0) \n",
    "print(a)\n",
    "b = a * 23.4 \n",
    "c = b/(a+1) \n",
    "c += 10 \n",
    "print (c)\n",
    "arr = np.arange(100, 200) \n",
    "select = [5, 25, 50, 75, -5] \n",
    "print(arr[select])  # can use integer lists as indices \n",
    "arr = np.arange(10, 20 )\n",
    "div_by_3 = arr%3 == 0  # comparison produces boolean array \n",
    "print(div_by_3) \n",
    "print(arr[div_by_3])  # can use boolean lists as indices \n",
    "arr = np.arange(10, 20).reshape((2,5))\n",
    "print (arr)"
   ]
  },
  {
   "cell_type": "code",
   "execution_count": null,
   "metadata": {},
   "outputs": [],
   "source": [
    "#common mathematical functions\n",
    "x = np.arange(1,5)\n",
    "result = np.sqrt(x) * np.pi\n",
    "print (result)\n",
    "print (np.power(2,4)) #much faster than python equivalent\n",
    "print (x.max() - x.min())\n",
    "\n",
    "#exponential & log\n",
    "arr = np.array([10,8,4])\n",
    "print(np.exp(arr)) #e^x\n",
    "print (np.log(arr)) #ln(x), base is e\n",
    "print (\"e :\", np.e, \"pi:\", np.pi)\n",
    "print (np.log10(arr)) #log(x), base is 10\n",
    "print (np.log2(arr)) #log(x), base is 2\n",
    "\n",
    "#rounding\n",
    "print (\"\\nROUNDING\")\n",
    "arr = np.array([20.8999,67.89899,54.23409])  \n",
    "print(np.around(arr,2)) #round off with 2 decimals\n",
    "print(np.floor(arr)) #largest integer less than input number\n",
    "print(np.ceil(arr))  #smallest integer greater than input number\n",
    "\n",
    "#trigonometric\n",
    "print (\"\\nTRIGONOMETRIC FUNCTIONS\")\n",
    "arr = np.array([0, 30, 60, 90, 120, 150, 180])   \n",
    "print(np.sin(arr * np.pi / 180)) #sine function\n",
    "print(np.cos(arr * np.pi / 180)) #cosine\n",
    "print(np.tan(arr * np.pi / 180)) #tangent\n",
    "arr = np.array([0.5, 0.30, 0.67])\n",
    "print(np.arcsin(arr)*180/np.pi) #inverse sine function\n",
    "arr = np.array([30,60,90])\n",
    "print(np.sinh(arr * np.pi / 180)) #hyperbolic sine\n",
    "arr = np.array([1,2,3])\n",
    "print(np.arctanh(arr * np.pi / 180)) #hyperbolic inverse tangent\n",
    "\n",
    "#complex\n",
    "print (\"\\nCOMPLEX NUMBERS\")\n",
    "arr = np.array([1+2j])  \n",
    "print(np.isreal(arr)) #real test funtion\n",
    "print(np.conj(arr)) #conjugate funtion"
   ]
  },
  {
   "cell_type": "code",
   "execution_count": null,
   "metadata": {},
   "outputs": [],
   "source": [
    "#statistics\n",
    "a = np.array([1, 4, 3, 8, 9, 2, 3], float) \n",
    "print (\"median:\",np.median(a))\n",
    "b = np.array([[1, 2, 1, 3], [5, 3, 1, 8]], float) \n",
    "c = np.corrcoef(b) \n",
    "print (\"Correlation:\", c)\n",
    "d = np.corrcoef(a,a)\n",
    "print (\"Correlation:\", d)\n",
    "a = np.array([1,2,3,4,6,7,8,9])\n",
    "b = np.array([2,4,6,8,10,12,13,15])\n",
    "c = np.array([-1,-2,-2,-3,-4,-6,-7,-8])\n",
    "print (np.corrcoef([a,b,c]))\n",
    "print (\"Covariance: \", np.cov(a)) #covariance\n",
    "print (\"Variance: \", np.var(a)) #covariance\n",
    "print (\"Standard deviation: \", np.std(a)) #covariance"
   ]
  },
  {
   "cell_type": "code",
   "execution_count": null,
   "metadata": {},
   "outputs": [],
   "source": [
    "#numpy linear algebra package : linalg\n",
    "A = np.array([[6, 1, 1],\n",
    "              [4, -2, 5],\n",
    "              [2, 8, 7]])\n",
    "# Rank of a matrix\n",
    "print(\"Rank of A:\", np.linalg.matrix_rank(A))\n",
    " \n",
    "# Trace of matrix A\n",
    "print(\"\\nTrace of A:\", np.trace(A))\n",
    " \n",
    "# Determinant of a matrix\n",
    "print(\"\\nDeterminant of A:\", np.linalg.det(A))\n",
    " \n",
    "# Inverse of matrix A\n",
    "print(\"\\nInverse of A:\\n\", np.linalg.inv(A))\n",
    " \n",
    "print(\"\\nMatrix A raised to power 3:\\n\",\n",
    "           np.linalg.matrix_power(A, 3))\n",
    "\n",
    "#solving linear eqn systems\n",
    "b = [1,2,3]\n",
    "x = np.linalg.solve(A,b)\n",
    "print (\"Solution vector:\", x)\n",
    "\n",
    "#Eigenvalues and eigen vectors\n",
    "#Creating an array using diag function\n",
    "a = np.diag((1, 2, 3))\n",
    "print(\"Array is :\",a)\n",
    " \n",
    "# calculating an eigen value using eigvals() function\n",
    "c = np.linalg.eigvals(a)\n",
    "print(\"Eigen value is :\",c)\n",
    "    \n",
    "# calculating an eigen value using eig() function\n",
    "c, d = np.linalg.eig(a)\n",
    "print(\"Eigen value is :\",c)\n",
    "print(\"Eigen vector is :\",d)\n"
   ]
  },
  {
   "cell_type": "code",
   "execution_count": null,
   "metadata": {},
   "outputs": [],
   "source": [
    "# ARRAY INDEXING\n",
    "# Create the following  2 array with shape (3, 4)\n",
    "# [[ 1  2  3  4]\n",
    "#  [ 5  6  7  8]\n",
    "#  [ 9 10 11 12]]\n",
    "a = np.array([[1,2,3,4], [5,6,7,8], [9,10,11,12]])\n",
    "print (\"a is :\\n\", a)\n",
    "\n",
    "# Use slicing to pull out the subarray consisting of the first 2 rows\n",
    "# and columns 1 and 2; b is the following array of shape (2, 2):\n",
    "# [[2 3]\n",
    "#  [6 7]]\n",
    "b = a[:2, 1:3]\n",
    "print (\"b is now:\\n\",b)"
   ]
  },
  {
   "cell_type": "code",
   "execution_count": null,
   "metadata": {},
   "outputs": [],
   "source": [
    "#misc ndarray operations\n",
    "print(a[0])  # this is just like a list of lists \n",
    "print(a[1][2])  #print a single value ==> 7 will be written\n",
    "print(a[1, 2])  # arrays can be given comma separated indices \n",
    "print(a[1, 1:3])  # and slices \n",
    "print(a[:,1]) \n",
    "a[1, 2] = 7 \n",
    "print(a) \n",
    "a[:, 0] = [0, 9, 8] \n",
    "print(a) "
   ]
  },
  {
   "cell_type": "code",
   "execution_count": null,
   "metadata": {},
   "outputs": [],
   "source": [
    "#BOOLEAN ARRAY INDEXING\n",
    "a = np.array([[1,2], [3, 4], [5, 6]])\n",
    "bool_idx = (a > 2)  # Find the elements which are bigger than 2;\n",
    "                    # this returns a numpy array of Booleans of the same\n",
    "                    # shape as a, where each slot of bool_idx tells\n",
    "                    # whether that element of a is > 2.\n",
    "\n",
    "print (bool_idx)\n",
    "print (a[a > 2])"
   ]
  },
  {
   "cell_type": "code",
   "execution_count": null,
   "metadata": {},
   "outputs": [],
   "source": [
    "#USE OF MATRICES\n",
    "print(a) \n",
    "print(a[0])  # this is just like a list of lists \n",
    "print(a[1, 2])  # arrays can be given comma separated indices \n",
    "print(a[1, 1:3])  # and slices \n",
    "print(a[:,1]) \n",
    "a[1, 2] = 7 \n",
    "print(a) \n",
    "a[:, 0] = [0, 9, 8] \n",
    "print(a) "
   ]
  },
  {
   "cell_type": "code",
   "execution_count": null,
   "metadata": {},
   "outputs": [],
   "source": [
    "#matrices -different definitions\n",
    "m = np.mat([[1,2],[3,4]]) \n",
    "print (m)\n",
    "a = np.array([[1,2],[3,4]]) \n",
    "print (a)\n",
    "m = np.mat(a) \n",
    "print (m)\n",
    "#or \n",
    "a = np.array([[1,2],[3,4]]) \n",
    "print (a)\n",
    "m = np.asmatrix(a)\n",
    "print (m)"
   ]
  },
  {
   "cell_type": "code",
   "execution_count": null,
   "metadata": {},
   "outputs": [],
   "source": [
    "#MATRICES\n",
    "#array vs matrix\n",
    "a = np.array([[1,2],[3,4]]) \n",
    "m = np.mat(a) # convert 2-d array to matrix \n",
    "m = np.matrix([[1, 2], [3, 4]]) \n",
    "print (\"ndarray:\\n\",a)\n",
    "print (\"matrix:\\n\",m)\n",
    "print (a[0]) # result is 1-dimensional\n",
    "print (m[0])    # result is 2-dimensional \n",
    "print (\"a*a :\\n\", a*a) # element-by-element multiplication  \n",
    "print (\"m*m :\\n\", m*m)    # algebraic) matrix multiplication \n",
    "print (a**3)    # element-wise power \n",
    "print (m**3)    # matrix multiplication m*m*m \n",
    "print (m.T) # transpose of the matrix \n",
    "print (m.H)  # conjugate transpose (differs from .T for complex matrices) \n",
    "print (m.I) # inverse matrix "
   ]
  },
  {
   "cell_type": "code",
   "execution_count": null,
   "metadata": {},
   "outputs": [],
   "source": [
    "#array math\n",
    "A = np.array([[n+m*10 for n in range(5)] for m in range(5)])\n",
    "v1 = np.arange(0, 5)\n",
    "print (A)\n",
    "print (v1)\n",
    "print (np.dot(A,A))\n",
    "print (np.dot(A,v1))\n",
    "print (np.dot(v1,v1))"
   ]
  },
  {
   "cell_type": "code",
   "execution_count": null,
   "metadata": {},
   "outputs": [],
   "source": [
    "#Alternatively, we can cast the array objects to the type matrix. \n",
    "#This changes the behavior of the standard arithmetic \n",
    "#operators +, -, * to use matrix algebra.\n",
    "M = np.matrix(A)\n",
    "v = np.matrix(v1).T\n",
    "print (v)\n",
    "print (M*v)\n",
    "print (v.T * v)   # inner product\n",
    "# standard matrix algebra applies\n",
    "print (v + M*v)"
   ]
  },
  {
   "cell_type": "code",
   "execution_count": null,
   "metadata": {},
   "outputs": [],
   "source": [
    "#numpy FFT :-)\n",
    "#optional topic\n",
    "from numpy import fft\n",
    "import numpy as np\n",
    "import matplotlib.pyplot as plt\n",
    "n = 1000    # Number of data points\n",
    "dx= 5.0    # Sampling period (in meters)\n",
    "x = dx*np.arange(0,n)   # x coordinates\n",
    "w1 = 100.0  # wavelength (meters)\n",
    "w2 = 20.0   # wavelength (meters)\n",
    "fx= np.sin(2*np.pi*x/w1) + 2*np.cos(2*np.pi*x/w2) # signal\n",
    "Fk= fft.fft(fx)/n    # Fourier coefficients (divided by n)\n",
    "nu= fft.fftfreq(n,dx)  # Natural frequencies\n",
    "Fk= fft.fftshift(Fk)   # Shift zero freq to center\n",
    "nu= fft.fftshift(nu)   # Shift zero freq to center\n",
    "f, ax = plt.subplots(3,1,sharex=True)\n",
    "ax[0].plot(nu, np.real(Fk))   # Plot Cosine terms\n",
    "ax[0].set_ylabel(r'$Re[F_k]$', size = 'x-large')\n",
    "ax[1].plot(nu, np.imag(Fk))         # Plot Sine terms\n",
    "ax[1].set_ylabel(r'$Im[F_k]$', size = 'x-large')\n",
    "ax[2].plot(nu, np.absolute(Fk)**2)  # Plot spectral power\n",
    "ax[2].set_ylabel(r'$\\vert F_k\\vert ^2$', size = 'x-large')\n",
    "ax[2].set_xlabel(r'$\\widetilde{\\nu}$', size = 'x-large')\n",
    "plt.show()"
   ]
  },
  {
   "cell_type": "code",
   "execution_count": null,
   "metadata": {},
   "outputs": [],
   "source": []
  }
 ],
 "metadata": {
  "kernelspec": {
   "display_name": "Python 3",
   "language": "python",
   "name": "python3"
  },
  "language_info": {
   "codemirror_mode": {
    "name": "ipython",
    "version": 3
   },
   "file_extension": ".py",
   "mimetype": "text/x-python",
   "name": "python",
   "nbconvert_exporter": "python",
   "pygments_lexer": "ipython3",
   "version": "3.8.5"
  }
 },
 "nbformat": 4,
 "nbformat_minor": 4
}
