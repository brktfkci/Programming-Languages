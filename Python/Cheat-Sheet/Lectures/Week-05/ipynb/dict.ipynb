{
 "cells": [
  {
   "cell_type": "markdown",
   "metadata": {},
   "source": [
    "EE393\n",
    "Week#5"
   ]
  },
  {
   "cell_type": "code",
   "execution_count": null,
   "metadata": {},
   "outputs": [],
   "source": [
    "#Creating a dictionary\n",
    "#1- Standard way\n",
    "myDict = {}\t# empty dictionar\n",
    "ymyDict = {1: 'ali', 2: 'veli'}\t# dictionary with integer keys\n",
    "myDict = {'name': 'Jon', 1: [2, 4, 3]} # dictionary with mixed keys"
   ]
  },
  {
   "cell_type": "code",
   "execution_count": null,
   "metadata": {},
   "outputs": [],
   "source": [
    "#Creating a dictionary\n",
    "#2- Using dict() function\n",
    "myDict = dict({1:'OzU', 2:'Ozyegin'})\n",
    "A=dict(m=8, n=9)\n",
    "AA={'m': 8, 'n': 9}\n",
    "print(A)"
   ]
  },
  {
   "cell_type": "code",
   "execution_count": null,
   "metadata": {},
   "outputs": [],
   "source": [
    "#Creating a dictionary\n",
    "#3- Using sequence having each item as a pair in a dict()\n",
    "myDict = dict([(1,'Ozu'), (2,'Ozyegin')]) \n",
    "print (myDict)"
   ]
  },
  {
   "cell_type": "code",
   "execution_count": null,
   "metadata": {},
   "outputs": [],
   "source": [
    "#Creating a dictionary\n",
    "#4- Comprehensions\n",
    "mySquares = {x: x*x for x in range(6)} \n",
    "print(mySquares) # Output: {0: 0, 1: 1, 2: 4, 3: 9, 4: 16, 5: 25}\n",
    "\n",
    "#which is equivalent to:\n",
    "mySquares2 = {} \n",
    "for x in range(6): \n",
    "    mySquares2[x] = x*x "
   ]
  },
  {
   "cell_type": "code",
   "execution_count": null,
   "metadata": {},
   "outputs": [],
   "source": [
    "#sequences as dictionary members\n",
    "inventory = { 'gold' : 500, 'pouch' : ['flint', 'twine', 'gemstone'],\n",
    "             'backpack' : ['xylophone','dagger', 'bedroll','bread loaf'] }\n",
    "print (inventory)"
   ]
  },
  {
   "cell_type": "code",
   "execution_count": null,
   "metadata": {},
   "outputs": [],
   "source": [
    "#sequences as dictionary members\n",
    "ali_r = { \"name\": \"Ali\", \n",
    "             \"homework\": [90.0,97.0,75.0,92.0], \n",
    "             \"quizzes\": [88.0,40.0,94.0], \n",
    "             \"tests\": [75.0,90.0] }\n",
    "veli_r = { \"name\": \"Veli\", \n",
    "             \"homework\": [100.0, 92.0, 98.0, 100.0], \n",
    "             \"quizzes\": [82.0, 83.0, 91.0], \n",
    "             \"tests\": [89.0, 97.0] }\n",
    "print (ali_r)\n",
    "print (veli_r)"
   ]
  },
  {
   "cell_type": "code",
   "execution_count": null,
   "metadata": {},
   "outputs": [],
   "source": [
    "person = dict()\n",
    "person['fname'] = 'Joe' \n",
    "person['lname'] = 'Jones' \n",
    "person['age'] = 50 \n",
    "person['spouse'] = 'Natalie' \n",
    "person['children'] = ['Ralph', 'Betty', 'Joey'] \n",
    "person['pets'] = {'dog': 'Lucky', 'cat': 'Boni'}\n",
    "print (person)             "
   ]
  },
  {
   "cell_type": "code",
   "execution_count": null,
   "metadata": {},
   "outputs": [],
   "source": [
    "#accessing dictionary -values using keys\n",
    "myDict = {'name': 'Ali', 'age': 19}\n",
    "print(myDict['name']) \t# Output will be Ali -> it is a key\n",
    "print(myDict.get('age')) \t# Output will be 19 -> it is a value"
   ]
  },
  {
   "cell_type": "code",
   "execution_count": null,
   "metadata": {},
   "outputs": [],
   "source": [
    "#Note that, Access requires [ ], but the key is the index!\n",
    "my_dict={}           #an empty dictionary \n",
    "my_dict['bill']=25   #added the pair 'bill':25\n",
    "print(my_dict['bill']) #prints 25"
   ]
  },
  {
   "cell_type": "code",
   "execution_count": null,
   "metadata": {},
   "outputs": [],
   "source": [
    "#Like lists, dictionaries are a mutable data structure\n",
    "#you can change the object via various operations, \n",
    "#such as index assignment\n",
    "my_dict = {'bill':3, 'rich':10}\n",
    "print(my_dict['bill'])\t# prints 3\n",
    "my_dict['bill'] = 100\n",
    "print(my_dict['bill'])\t# prints 100"
   ]
  },
  {
   "cell_type": "code",
   "execution_count": null,
   "metadata": {},
   "outputs": [],
   "source": [
    "#Dictionary keys can be any immutable object\n",
    "demo = {2: ['a','b','c'], (2,4): 27, 'x': {1:2.5, 'a':3}}\n",
    "print (demo)\n",
    "print (demo[2])\n",
    "print (demo[(2,4)])\n",
    "print (demo ['x'])\n",
    "print (demo['x'][1])"
   ]
  },
  {
   "cell_type": "code",
   "execution_count": null,
   "metadata": {},
   "outputs": [],
   "source": [
    "person = dict()\n",
    "person['fname'] = 'Joe' \n",
    "person['lname'] = 'Jones' \n",
    "person['age'] = 50 \n",
    "person['spouse'] = 'Natalie' \n",
    "person['children'] = ['Ralph', 'Betty', 'Joey'] \n",
    "person['pets'] = {'dog': 'Lucky', 'cat': 'Boni'}\n",
    "print (person) \n",
    "#in\n",
    "searchKey=\"age\"\n",
    "if (searchKey in person): print (\"Found\")\n",
    "else: print (\"not Found\")\n",
    "for x in person: #iterates over keys\n",
    "    print (x)\n",
    "\n",
    "for x in person: #iterates over keys\n",
    "    print (x,person[x])"
   ]
  },
  {
   "cell_type": "code",
   "execution_count": null,
   "metadata": {},
   "outputs": [],
   "source": [
    "#update\n",
    "d = {1: \"one\", 2: \"three\"}\n",
    "d1 = {2: \"two\"}\n",
    "\n",
    "# updates the value of key 2\n",
    "d.update(d1)\n",
    "print(d)\n",
    "\n",
    "d1 = {3: \"three\"}\n",
    "\n",
    "# adds element with key 3\n",
    "d.update(d1)\n",
    "print(d)"
   ]
  },
  {
   "cell_type": "code",
   "execution_count": null,
   "metadata": {},
   "outputs": [],
   "source": [
    "#shallow copy\n",
    "dd = d.copy()\n",
    "print(dd)"
   ]
  },
  {
   "cell_type": "code",
   "execution_count": null,
   "metadata": {},
   "outputs": [],
   "source": [
    "print (d.pop(1)) #returns key=1 and its value, and then deletes\n",
    "print (d)"
   ]
  },
  {
   "cell_type": "code",
   "execution_count": null,
   "metadata": {},
   "outputs": [],
   "source": [
    "#items, keys and values\n",
    "person = dict()\n",
    "person['fname'] = 'Joe' \n",
    "person['lname'] = 'Jones' \n",
    "person['age'] = 50 \n",
    "person['spouse'] = 'Natalie' \n",
    "person['children'] = ['Ralph', 'Betty', 'Joey'] \n",
    "person['pets'] = {'dog': 'Lucky', 'cat': 'Boni'}\n",
    "print (person.items()) #returns all items as dictionary views\n",
    "for x,y in person.items(): access keys and values via items\n",
    "    print (x,y)"
   ]
  },
  {
   "cell_type": "code",
   "execution_count": null,
   "metadata": {},
   "outputs": [],
   "source": [
    "#dictionary views are iterable\n",
    "#you can make iterations on them (for) or create another container\n",
    "print (person.keys())\n",
    "print (person.values())\n",
    "print (list(person.keys()))"
   ]
  },
  {
   "cell_type": "code",
   "execution_count": null,
   "metadata": {},
   "outputs": [],
   "source": [
    "#deleting items from dictionary\n",
    "#Using pop(), we can remove a particular item and \n",
    "#get the value of the removed item at the same time.\n",
    "\n",
    "mySquares = {1:1, 2:4, 3:9, 4:16, 5:25}\n",
    "a=mySquares.pop(4) #removes item with key=4 and returns the removed item\n",
    "print (a) # Output is -> 16 \n",
    "print (mySquares) # Output is {1: 1, 2: 4, 3: 9, 5: 25}\n",
    "\n",
    "#popitem() can be used to remove the last item and return its value form the dictionary. \n",
    "mySquares = {1:1, 2:4, 3:9, 4:16, 5:25}\n",
    "a=mySquares.popitem() #removes item with key=4 and returns it\n",
    "print (a) # Output is -> (5,25) \n",
    "print (mySquares) # Output is {1: 1, 2: 4, 3: 9, 4: 16}\n",
    "\n",
    "#All the items can be removed at once using the clear() method.\n",
    "mySquares.clear()\n",
    "print (mySquares)"
   ]
  },
  {
   "cell_type": "code",
   "execution_count": null,
   "metadata": {},
   "outputs": [],
   "source": [
    "#fromkeys() is used to return a new dictionary with keys from another dictionary and value equal to v (defaults to None).\n",
    "\n",
    "mySquares = {1:1, 2:4, 3:9, 4:16, 5:25}\n",
    "bb={ }.fromkeys(mySquares)\n",
    "print (bb) # Outputs {1: None, 2: None, 3: None, 4: None, 5: None}\n",
    "\n",
    "mySquares = {1:1, 2:4, 3:9, 4:16, 5:25}\n",
    "bb={}.fromkeys(mySquares, 'hello')\n",
    "print (bb) # Outputs {1: 'hello', 2: 'hello', 3: 'hello', 4: 'hello', 5: 'hello'}\n"
   ]
  },
  {
   "cell_type": "code",
   "execution_count": null,
   "metadata": {},
   "outputs": [],
   "source": [
    "#zipping iterables\n",
    "number_list = [1, 2, 3]\n",
    "str_list = ['one', 'two', 'three']\n",
    "\n",
    "# Two iterables are passed\n",
    "result = zip(number_list, str_list)\n",
    "\n",
    "# Converting itertor to set\n",
    "result_set = set(result)\n",
    "print(result_set)"
   ]
  },
  {
   "cell_type": "code",
   "execution_count": null,
   "metadata": {},
   "outputs": [],
   "source": [
    "#different number of iterables\n",
    "numbersList = [1, 2, 3]\n",
    "str_list = ['one', 'two']\n",
    "numbers_tuple = ('ONE', 'TWO', 'THREE', 'FOUR')\n",
    "\n",
    "# Notice, the size of numbersList and numbers_tuple is different\n",
    "result = zip(numbersList, numbers_tuple)\n",
    "\n",
    "# Converting to set\n",
    "result_set = set(result)\n",
    "print(result_set)\n",
    "\n",
    "result = zip(numbersList, str_list, numbers_tuple)\n",
    "\n",
    "# Converting to set\n",
    "result_set = set(result)\n",
    "print(result_set)"
   ]
  },
  {
   "cell_type": "code",
   "execution_count": null,
   "metadata": {},
   "outputs": [],
   "source": [
    "#zipping lists -advanced\n",
    "#zipping  \n",
    "a = ['a1', 'a2', 'a3']\n",
    "b = ['b1', 'b2']\n",
    "\n",
    "print (\"Zip:\")\n",
    "for x, y in zip(a, b):\n",
    "    print (x, y)\n",
    "\n",
    "aa=[(x,y) for x in a for y in b]\n",
    "print (aa)\n",
    "\n",
    "sayilar= [[0,10],[6,60],[12,54],[67,99]]\n",
    "for i in sayilar:\n",
    "    print(*range(*i))"
   ]
  }
 ],
 "metadata": {
  "kernelspec": {
   "display_name": "Python 3",
   "language": "python",
   "name": "python3"
  },
  "language_info": {
   "codemirror_mode": {
    "name": "ipython",
    "version": 3
   },
   "file_extension": ".py",
   "mimetype": "text/x-python",
   "name": "python",
   "nbconvert_exporter": "python",
   "pygments_lexer": "ipython3",
   "version": "3.8.5"
  }
 },
 "nbformat": 4,
 "nbformat_minor": 4
}
