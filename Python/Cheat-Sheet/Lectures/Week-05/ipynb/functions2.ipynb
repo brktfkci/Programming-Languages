{
 "cells": [
  {
   "cell_type": "code",
   "execution_count": null,
   "metadata": {},
   "outputs": [],
   "source": [
    "#simple function\n",
    "def addOne(y):\n",
    "    y += 1\n",
    "    print(y)\n",
    "    return y\n",
    "\n",
    "x = 2\n",
    "z = addOne(x)\n",
    "print(x)\n",
    "print(z)"
   ]
  },
  {
   "cell_type": "code",
   "execution_count": null,
   "metadata": {},
   "outputs": [],
   "source": [
    "#functions return tuple\n",
    "def fun1():\n",
    "    x = [7,8,True,3+4j,\"OzU\"]\n",
    "    return 1,2,3,\"hello\",x"
   ]
  },
  {
   "cell_type": "code",
   "execution_count": null,
   "metadata": {},
   "outputs": [],
   "source": [
    "returnMe = fun1()\n",
    "print (returnMe)\n",
    "print (returnMe[4][3])\n",
    "returnMe[4][3]=\"Ozyegin\"\n",
    "print (returnMe[4][3])\n",
    "returnMe[1]=8 #will give an error"
   ]
  },
  {
   "cell_type": "code",
   "execution_count": null,
   "metadata": {},
   "outputs": [],
   "source": [
    "#function returning a list\n",
    "def createL(a,b,c,d):\n",
    "    x = [a,b,c,d]\n",
    "    return x"
   ]
  },
  {
   "cell_type": "code",
   "execution_count": null,
   "metadata": {},
   "outputs": [],
   "source": [
    "print (createL(1,2,3,4))"
   ]
  },
  {
   "cell_type": "code",
   "execution_count": null,
   "metadata": {},
   "outputs": [],
   "source": [
    "#named Tuples\n",
    "from collections import namedtuple\n",
    "Point = namedtuple('Point', 'x y')\n",
    "pt1 = Point(1.0, 5.0)\n",
    "pt2 = Point(2.5, 1.5)\n",
    "\n",
    "from math import sqrt\n",
    "# use index referencing\n",
    "line_length = sqrt((pt1.x-pt2.x)**2 + (pt1.y-pt2.y)**2)\n",
    " # use tuple unpacking\n",
    "x1, y1 = pt1\n",
    "print (line_length, x1, y1)"
   ]
  },
  {
   "cell_type": "code",
   "execution_count": null,
   "metadata": {},
   "outputs": [],
   "source": [
    "#all the built-ins in Python\n",
    "import builtins\n",
    "builtins.__dict__"
   ]
  },
  {
   "cell_type": "code",
   "execution_count": null,
   "metadata": {},
   "outputs": [],
   "source": [
    "#functions with many args\n",
    "def manyArgs(*arg):\n",
    "     print (\"I was called with\", len(arg), \"arguments:\", arg)\n",
    "\n",
    "manyArgs(1)\n",
    "manyArgs(\"a\",True)\n",
    "manyArgs(1,2,3)"
   ]
  },
  {
   "cell_type": "code",
   "execution_count": null,
   "metadata": {},
   "outputs": [],
   "source": [
    "def myFun(*a):  \n",
    "    for x in a:  \n",
    "        print (x) \n",
    "myFun('Hello', 'OzU', 'and', 'World')"
   ]
  },
  {
   "cell_type": "code",
   "execution_count": null,
   "metadata": {},
   "outputs": [],
   "source": [
    "def myFun2(aa, *argv): \n",
    "    print (\"First argument :\", aa) \n",
    "    for x in argv: \n",
    "        print(\"Next argument through *argv :\", x) \n",
    "myFun2('Hey', 'Hello', 'OzU', 'to', 'World', 'TR')    \n"
   ]
  },
  {
   "cell_type": "code",
   "execution_count": null,
   "metadata": {},
   "outputs": [],
   "source": [
    "#####kwargs\n",
    "def myFun3(**kwOZU):  \n",
    "    for key, value in kwOZU.items(): \n",
    "        print (\"%s == %s\" %(key, value)) \n",
    "\n",
    "myFun3(first ='OzU', mid ='is', last='Great') "
   ]
  },
  {
   "cell_type": "code",
   "execution_count": null,
   "metadata": {},
   "outputs": [],
   "source": [
    "#functions are first class objects\n",
    "def square(x): \n",
    "    return x*x\n",
    "def applier(q,x): \n",
    "    return q(x)\n",
    "\n",
    "myVal=applier(square,7)\n",
    "print (myVal)"
   ]
  },
  {
   "cell_type": "code",
   "execution_count": null,
   "metadata": {},
   "outputs": [],
   "source": [
    "global x,y\n",
    "def ff():\n",
    "    return x*y"
   ]
  },
  {
   "cell_type": "code",
   "execution_count": null,
   "metadata": {},
   "outputs": [],
   "source": [
    "x=10\n",
    "y=21\n",
    "print (ff())"
   ]
  },
  {
   "cell_type": "markdown",
   "metadata": {},
   "source": [
    "#lambda functions <br>\n",
    "Created on Tue Nov 01, 17:45:00 2020<br>\n",
    "@author: gokcol <br>\n",
    "some advanced uses of lambda"
   ]
  },
  {
   "cell_type": "code",
   "execution_count": null,
   "metadata": {},
   "outputs": [],
   "source": [
    "#simple uses\n",
    "x = lambda a : a**2\n",
    "t=x(5) #the value of t is 5^2=25\n",
    "print (t)\n",
    "\n",
    "x = lambda a, b : a * b\n",
    "t=x(5, 6) #the value of t is 5*6=30\n",
    "print (t)\n"
   ]
  },
  {
   "cell_type": "code",
   "execution_count": null,
   "metadata": {},
   "outputs": [],
   "source": [
    "#a little bit tricky!!!! :)\n",
    "def myfunc(n):\n",
    "    return lambda a : a * n\n",
    "\n",
    "mydoubler = myfunc(2) \n",
    "print(mydoubler(11)) "
   ]
  },
  {
   "cell_type": "code",
   "execution_count": null,
   "metadata": {},
   "outputs": [],
   "source": [
    "#more tricky!!!! :)\n",
    "\n",
    "mydict = {'A':4,'B':100,'C':0,'D':87}\n",
    "print (mydict.items())\n",
    "\n",
    "mmm=max(mydict.items(), key=lambda rr: rr[1])\n",
    "print (mmm)\n",
    "sorted_by_value = sorted(mydict.items(), key=lambda kv: kv[1])\n",
    "print(sorted_by_value)"
   ]
  },
  {
   "cell_type": "code",
   "execution_count": null,
   "metadata": {},
   "outputs": [],
   "source": [
    "x = {1: 2, 3: 4, 4: 3, 2: 1, 0: 0}\n",
    "sorted_by_value = sorted(x.items(), key=lambda kv: kv[1])\n",
    "print(sorted_by_value)\n",
    "\n",
    "A=['Jim', 'Jenny', 'Phil', 'Mike']\n",
    "B=[20, 23, 38, 66]\n",
    "temp = sorted(zip(A,B), key=lambda i: i[1], reverse=True)\n",
    "print (temp)"
   ]
  },
  {
   "cell_type": "code",
   "execution_count": null,
   "metadata": {},
   "outputs": [],
   "source": [
    "#map\n",
    "def add1(x): return x+1\n",
    "def odd(x): return x%2 == 1\n",
    "def add(x,y): return x + y\n",
    "result = map(add1, [1,2,3,4])\n",
    "print (list(result))\n",
    "result2 = list (map(add,[11,20,13,4],[100,200,300,400]))\n",
    "print (result2)\n",
    "result3 = filter(odd, [1,2,3,4])\n",
    "print (list(result3))"
   ]
  },
  {
   "cell_type": "code",
   "execution_count": null,
   "metadata": {},
   "outputs": [],
   "source": [
    "#nested functions\n",
    "def print_msg(msg):\n",
    "# This is the outer enclosing function\n",
    "    def printer():\n",
    "# This is the nested function\n",
    "        print(msg)\n",
    "    printer()\n",
    "# We execute the function\n",
    "# Output: Hello world\n",
    "print_msg(\"Hello world\\n\")"
   ]
  },
  {
   "cell_type": "code",
   "execution_count": null,
   "metadata": {},
   "outputs": [],
   "source": []
  }
 ],
 "metadata": {
  "kernelspec": {
   "display_name": "Python 3",
   "language": "python",
   "name": "python3"
  },
  "language_info": {
   "codemirror_mode": {
    "name": "ipython",
    "version": 3
   },
   "file_extension": ".py",
   "mimetype": "text/x-python",
   "name": "python",
   "nbconvert_exporter": "python",
   "pygments_lexer": "ipython3",
   "version": "3.8.5"
  }
 },
 "nbformat": 4,
 "nbformat_minor": 4
}
