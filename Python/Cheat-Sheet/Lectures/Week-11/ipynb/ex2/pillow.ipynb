{
 "cells": [
  {
   "cell_type": "markdown",
   "metadata": {},
   "source": [
    "<b>Python Image Library : PILLOW </b><br>\n",
    "Basics <br>\n",
    "EE393 | Python for Engineers <br>"
   ]
  },
  {
   "cell_type": "code",
   "execution_count": 11,
   "metadata": {},
   "outputs": [
    {
     "name": "stdout",
     "output_type": "stream",
     "text": [
      "<PIL.PngImagePlugin.PngImageFile image mode=RGBA size=1200x500 at 0x7FFA1B76A400>\n"
     ]
    }
   ],
   "source": [
    "#Basic use\n",
    "#open an image and show it!!\n",
    "#----------------\n",
    "from PIL import Image\n",
    "try:\n",
    "    img = Image.open('ozu2.png')\n",
    "    print (img)\n",
    "    img.show()\n",
    "except FileNotFoundError:\n",
    "    print (\"File not found\")"
   ]
  },
  {
   "cell_type": "code",
   "execution_count": 26,
   "metadata": {},
   "outputs": [],
   "source": [
    "#image attributes\n",
    "def printImageAttributes(imageObject, imagePath):\n",
    "    # Retrieve the attributes of the image\n",
    "    fileFormat      = imageObject.format        # Format of the image\n",
    "    imageSize       = imageObject.size          # Size of the image - tupe of (width, height)\n",
    "    imageMode       = imageObject.mode          # Mode of the image\n",
    "    colorPalette    = imageObject.palette       # Palette used in the image\n",
    "    width           = imageObject.width         # image width\n",
    "    height          = imageObject.height        # image height\n",
    "    filename        = imageObject.filename      # image file name\n",
    "    desc            = imageObject.format_description\n",
    "# Print the attributes of the image\n",
    "\n",
    "    print(\"Attributes of image:{0}\".format(imagePath))\n",
    "    print(\"The file format of the image is:{0}\".format(fileFormat))\n",
    "    print(\"Format description:\", desc)\n",
    "    print(\"The mode of the image is:{0}\".format(imageMode))\n",
    "    print(\"The size of the image is:width {0} pixels,height {1} pixels\"\n",
    "          .format(imageSize[0],imageSize[1]))\n",
    "    print(\"Color palette used in image:{0}\".format(colorPalette))\n",
    "    print(\"Image width:\", width)\n",
    "    print(\"Image height:\", height)\n",
    "    print(\"Image file name:\", filename)\n",
    "    print(\"Keys from image.info dictionary:\")\n",
    "    for key, value in imageObject.info.items() :\n",
    "        print(key)"
   ]
  },
  {
   "cell_type": "code",
   "execution_count": 27,
   "metadata": {},
   "outputs": [
    {
     "name": "stdout",
     "output_type": "stream",
     "text": [
      "Attributes of image:./ozu.jpg\n",
      "The file format of the image is:JPEG\n",
      "Format description: JPEG (ISO 10918)\n",
      "The mode of the image is:RGB\n",
      "The size of the image is:width 900 pixels,height 505 pixels\n",
      "Color palette used in image:None\n",
      "Image width: 900\n",
      "Image height: 505\n",
      "Image file name: ./ozu.jpg\n",
      "Keys from image.info dictionary:\n",
      "exif\n",
      "dpi\n",
      "photoshop\n",
      "adobe\n",
      "adobe_transform\n",
      "icc_profile\n"
     ]
    }
   ],
   "source": [
    "imagePath       = \"./ozu.jpg\"\n",
    "try:\n",
    "    image       = Image.open(imagePath)\n",
    "    image.show()\n",
    "    printImageAttributes(image, imagePath)\n",
    "except FileNotFoundError:\n",
    "    print (\"File {0} not found\".format(imagePath))\n",
    "image.save('ozu_new.jpg')"
   ]
  },
  {
   "cell_type": "code",
   "execution_count": 28,
   "metadata": {},
   "outputs": [],
   "source": [
    "#create new image\n",
    "from PIL import Image, ImageDraw, ImageFont\n",
    "mymode=\"RGBA\"\n",
    "mysize=(50,50)\n",
    "mycolor=(50,20,20,50) #r,g,b,a values\n",
    "img = Image.new(mode=mymode, size=mysize, color=mycolor)\n",
    "fnt = ImageFont.truetype(\"./Ellanor.ttf\", 24)\n",
    "d = ImageDraw.Draw(img)\n",
    "d.text((3,0), \"Ö z Ü\", font=fnt, fill=(255,0,0))\n",
    "img.save(\"new.png\")"
   ]
  },
  {
   "cell_type": "code",
   "execution_count": 33,
   "metadata": {},
   "outputs": [
    {
     "name": "stdout",
     "output_type": "stream",
     "text": [
      "(0, 0, 0, 0)\n",
      "(210, 210, 210, 255)\n",
      "(169, 169, 169, 255)\n"
     ]
    }
   ],
   "source": [
    "#create new image, work on pixels\n",
    "#using getpixel and putpixel\n",
    "from PIL import Image, ImageDraw, ImageFont, ImageColor\n",
    "im = Image.new(\"RGBA\", (100, 100))\n",
    "print (im.getpixel((0, 0)))\n",
    "for x in range(100):\n",
    "    for y in range(50):\n",
    "        im.putpixel((x, y), (210, 210, 210))\n",
    "\n",
    "for x in range(100):\n",
    "    for y in range(50, 100):\n",
    "        im.putpixel((x, y), ImageColor.getcolor('darkgray', 'RGBA'))\n",
    "\n",
    "print (im.getpixel((0, 0)))\n",
    "print (im.getpixel((0, 50)))\n",
    "im.save('putPixel.png')"
   ]
  },
  {
   "cell_type": "code",
   "execution_count": null,
   "metadata": {},
   "outputs": [],
   "source": [
    "#getting pixel color values as tuples\n",
    "pix = img.load()\n",
    "for i in range(img.width): # for every pixel:\n",
    "    for j in range(img.height):\n",
    "        print (i,j,\":\",pix[i,j])"
   ]
  },
  {
   "cell_type": "code",
   "execution_count": 12,
   "metadata": {},
   "outputs": [],
   "source": [
    "#image color manipulation!!!\n",
    "from PIL import Image, ImageDraw, ImageFont\n",
    "\n",
    "def processImg(img):\n",
    "    fnt = ImageFont.truetype(\"./Arial.ttf\", 96)\n",
    "    d = ImageDraw.Draw(img)\n",
    "    d.text((350,100), \"ÖZYEĞİN\", font=fnt, fill=(0,0,0))\n",
    "    pix = img.load()\n",
    "    for i in range(img.width): # for every pixel:\n",
    "        for j in range(img.height):\n",
    "            r = pix[i,j][0]; g = pix[i,j][1]; b = pix[i,j][2]\n",
    "            pix[i,j] = (r+20,g-50,255)\n",
    "    img.show()\n",
    "\n",
    "try:\n",
    "    img = Image.open('ozu2.png')\n",
    "    img.show()\n",
    "    processImg(img)\n",
    "except FileNotFoundError:\n",
    "    print (\"File not found\")"
   ]
  },
  {
   "cell_type": "code",
   "execution_count": 16,
   "metadata": {},
   "outputs": [
    {
     "name": "stdout",
     "output_type": "stream",
     "text": [
      "1200 500\n"
     ]
    }
   ],
   "source": [
    "#resize image\n",
    "width, height = img.size\n",
    "print(width, height)\n",
    "newsize = (int(width/2), int(300, 300)\n",
    "resizedIm = img.resize(newsize)\n",
    "resizedIm.save('resizedOzU.png')"
   ]
  },
  {
   "cell_type": "code",
   "execution_count": 10,
   "metadata": {},
   "outputs": [],
   "source": [
    "#crop image\n",
    "croppedIm = img.crop((100, 100, 600, 400))\n",
    "croppedIm.save('croppedOzU.png')"
   ]
  },
  {
   "cell_type": "code",
   "execution_count": 17,
   "metadata": {},
   "outputs": [],
   "source": [
    "#rotate image\n",
    "img.rotate(60).save('ozu60.png')"
   ]
  },
  {
   "cell_type": "code",
   "execution_count": 18,
   "metadata": {},
   "outputs": [],
   "source": [
    "#flipping image\n",
    "# Do a flip of left and right\n",
    "img = Image.open('ozu2.png')\n",
    "img.show()\n",
    "flippedImage = img.transpose(Image.FLIP_TOP_BOTTOM)\n",
    "flippedImage.show()\n",
    "\n",
    "img.transpose(Image.FLIP_LEFT_RIGHT).show()"
   ]
  },
  {
   "cell_type": "code",
   "execution_count": 47,
   "metadata": {},
   "outputs": [
    {
     "name": "stdout",
     "output_type": "stream",
     "text": [
      "147 154\n"
     ]
    }
   ],
   "source": [
    "#pasting an image over another image\n",
    "#load main image\n",
    "img = Image.open('ozu2.png')\n",
    "\n",
    "#load logo\n",
    "imgLogo = Image.open('ozulogo.png')\n",
    "imgLogo = imgLogo.resize((int(imgLogo.width/5),int(imgLogo.height/5)))\n",
    "print (imgLogo.width, imgLogo.height)\n",
    "imgLogo.show()\n",
    "\n",
    "placeLoc = (img.width-imgLogo.width-20,img.height-imgLogo.height-20)\n",
    "img.paste(imgLogo, placeLoc, imgLogo)\n",
    "img.show()\n",
    "img.save(\"ozuwithlogo.png\")"
   ]
  },
  {
   "cell_type": "code",
   "execution_count": 52,
   "metadata": {},
   "outputs": [],
   "source": [
    "#gray scale\n",
    "img = Image.open('ozu2.png') \n",
    "img = img.convert(\"L\") #luminosity\n",
    "img.show()"
   ]
  },
  {
   "cell_type": "code",
   "execution_count": 54,
   "metadata": {},
   "outputs": [],
   "source": [
    "#drawing on images\n",
    "from PIL import Image, ImageDraw\n",
    "im = Image.new('RGBA', (200, 200), 'white')\n",
    "draw = ImageDraw.Draw(im)\n",
    "draw.line([(0, 0), (199, 0), (199, 199), (0, 199), (0, 0)], fill='black')\n",
    "draw.rectangle((20, 30, 60, 60), fill='blue')\n",
    "draw.ellipse((120, 30, 160, 60), fill='red')\n",
    "draw.polygon(((57, 87), (79, 62), (94, 85), (120, 90), (103, 113)),\n",
    "   fill='brown')\n",
    "for i in range(100, 200, 10):\n",
    "    draw.line([(i, 0), (200, i - 100)], fill='green')\n",
    "im.save('drawing.png')"
   ]
  },
  {
   "cell_type": "code",
   "execution_count": 58,
   "metadata": {},
   "outputs": [
    {
     "data": {
      "image/png": "[encoded data removed]",
      "text/plain": [
       "<PIL.Image.Image image mode=L size=200x200 at 0x7FDD7A9E2FA0>"
      ]
     },
     "execution_count": 58,
     "metadata": {},
     "output_type": "execute_result"
    }
   ],
   "source": [
    "#image from numpy array\n",
    "import numpy as np\n",
    "from PIL import Image\n",
    "\n",
    "#ptp preserves the data type of the array. This means the return value \n",
    "#for an input of signed integers with n bits (e.g. np. int8, np. int16, etc) \n",
    "#is also a signed integer with n bits\n",
    "def display_image(x):\n",
    "    x_scaled = np.uint8(255 * (x - x.min()) / x.ptp())\n",
    "    return Image.fromarray(x_scaled)\n",
    "\n",
    "display_image(np.random.rand(200, 200))"
   ]
  },
  {
   "cell_type": "code",
   "execution_count": 15,
   "metadata": {},
   "outputs": [],
   "source": [
    "#filters!!!!!\n",
    "#BLUR, CONTOUR, DETAIL, EDGE_ENHANCE, EDGE_ENHANCE_MORE, EMBOSS, \n",
    "#FIND_EDGES, SHARPEN, SMOOTH, SMOOTH_MORE\n",
    "\n",
    "from PIL import Image, ImageFilter\n",
    "import sys\n",
    "\n",
    "try:\n",
    "    img = Image.open('ozu2.png')\n",
    "    \n",
    "except IOError:\n",
    "    print(\"Unable to load image\")    \n",
    "    sys.exit(1)\n",
    "\n",
    "blurred = img.filter(ImageFilter.BLUR)\n",
    "blurred.show()\n",
    "blurred.save(\"blurred.png\")"
   ]
  },
  {
   "cell_type": "code",
   "execution_count": 30,
   "metadata": {},
   "outputs": [],
   "source": [
    "#reading an image from internet & save it\n",
    "from PIL import Image\n",
    "import sys\n",
    "import urllib\n",
    "\n",
    "#Ozyegin EE dept.\n",
    "url = 'https://www.ozyegin.edu.tr/sites/default/files/styles/slider_870x425/public/_bom9209_final_ee_ana_sayfa.jpg'\n",
    "\n",
    "try:\n",
    "    resp = urllib.request.urlopen(url)\n",
    "except requests.exceptions.RequestException as e:  \n",
    "    sys.exit(1)\n",
    "\n",
    "try:\n",
    "    img = Image.open(resp)\n",
    "except IOError:\n",
    "    print(\"Unable to open image\")\n",
    "    sys.exit(1)\n",
    "img.show();\n",
    "img.save('ozu_ee.png', 'png', resolution=600) "
   ]
  },
  {
   "cell_type": "code",
   "execution_count": null,
   "metadata": {},
   "outputs": [],
   "source": []
  }
 ],
 "metadata": {
  "kernelspec": {
   "display_name": "Python 3",
   "language": "python",
   "name": "python3"
  },
  "language_info": {
   "codemirror_mode": {
    "name": "ipython",
    "version": 3
   },
   "file_extension": ".py",
   "mimetype": "text/x-python",
   "name": "python",
   "nbconvert_exporter": "python",
   "pygments_lexer": "ipython3",
   "version": "3.8.5"
  }
 },
 "nbformat": 4,
 "nbformat_minor": 4
}
