{
 "cells": [
  {
   "cell_type": "code",
   "execution_count": null,
   "metadata": {},
   "outputs": [],
   "source": [
    "#EE393 -30.11.20\n",
    "#Sci&Eng uses -recap"
   ]
  },
  {
   "cell_type": "code",
   "execution_count": null,
   "metadata": {},
   "outputs": [],
   "source": [
    "#-----------------------\n",
    "#scipy has many (hundreds of!!!!) constants used in sci & eng\n",
    "#see https://docs.scipy.org/doc/scipy/reference/constants.html for a full list\n",
    "#------------------------\n",
    "import scipy.constants as sc\n",
    "print (\"Pi: {} , elementary charge: {}, Planck: {}\".format(sc.pi, sc.e, sc.h))\n",
    "print (\"Speed of light: {} , gravitational constant: {}, Avogadro: {}\".format(sc.c, sc.G, sc.Avogadro))\n",
    "print (\"Standard atmosphere in pascal {} , Boltzman constant: {}, km/h to m/s: {}\".format(sc.atm, sc.k, sc.kmh))\n",
    "print (\"And many more!!!!!\")"
   ]
  },
  {
   "cell_type": "code",
   "execution_count": null,
   "metadata": {},
   "outputs": [],
   "source": [
    "#-----------------------\n",
    "#numpy arrange and linspace are very convenient to create points (generally, x coordinates)\n",
    "#then, proper numpy methods or your own functions could be used to find\n",
    "#values of functions at those points. plotting values using matplotlib is also an easy task\n",
    "#-----------------------\n",
    "import numpy as np\n",
    "x = np.arange(0, 361,10)\n",
    "y = np.sin(x*np.pi/180)\n",
    "y = np.around(y,8)\n",
    "print (x)\n",
    "print (y)\n",
    "\n",
    "#plot\n",
    "import matplotlib.pyplot as plt\n",
    "fig = plt.figure()\n",
    "plt.plot(x,y,\n",
    "         linestyle='--', linewidth=2, \n",
    "         marker='o', color='b')\n",
    "plt.xlabel('x', fontsize=14)\n",
    "plt.ylabel('Sin(x)', fontsize=14)\n",
    "fig.savefig(\"ee393.pdf\", format='pdf', dpi=200)\n",
    "plt.show()"
   ]
  },
  {
   "cell_type": "code",
   "execution_count": null,
   "metadata": {},
   "outputs": [],
   "source": [
    "#-----------------\n",
    "#numerical integration of any continuous functions\n",
    "#-----------------\n",
    "from numpy import cos, exp, pi\n",
    "from scipy.integrate import quad\n",
    "import numpy as np\n",
    "\n",
    "# function we want to integrate\n",
    "def f(x):\n",
    "    return exp(cos(-2 * x * pi)) + 3.2\n",
    "\n",
    "# call quad to integrate f from -2 to 2\n",
    "#uses gaussian quadrature\n",
    "res, err = quad(f, -2, 2)\n",
    "\n",
    "print(\"The numerical result is {:f} (+-{:g})\"\n",
    "    .format(res, err))\n",
    "\n",
    "#plot function\n",
    "import matplotlib.pyplot as plt\n",
    "x = np.arange(-2,2.01,0.1)\n",
    "plt.plot(x,f(x))\n",
    "plt.show()"
   ]
  },
  {
   "cell_type": "code",
   "execution_count": null,
   "metadata": {},
   "outputs": [],
   "source": [
    "#-------------\n",
    "#Ordinary differential equations\n",
    "#------------\n",
    "\n",
    "from scipy.integrate import odeint\n",
    "import numpy as np\n",
    "\n",
    "#this is the rhs of the ODE\n",
    "#to integrate, i.e. dy/dt=f(y,t)\n",
    "def f(y, t):\n",
    "    return -2*y*t\n",
    "\n",
    "y0 = 1   # initial value\n",
    "a  = 0   # integration limits \n",
    "b  = 2   # for t\n",
    "\n",
    "t = np.arange(a, b, 0.01) # values of t for\n",
    "                          # which we require\n",
    "                          # the solution y(t)\n",
    "# actual computation of y(t) -it is a numpy array\n",
    "y = odeint(f, y0, t)\n",
    "\n",
    "import matplotlib.pyplot as plt   # plotting of results\n",
    "plt.plot(t, y)\n",
    "plt.xlabel('t'); plt.ylabel('y(t)')\n",
    "plt.show()"
   ]
  },
  {
   "cell_type": "code",
   "execution_count": null,
   "metadata": {},
   "outputs": [],
   "source": [
    "#Interpolation\n",
    "import numpy as np\n",
    "from scipy import interpolate\n",
    "import matplotlib.pyplot as plt\n",
    "\n",
    "x = np.linspace(0, 4, 12)\n",
    "y = np.cos(x**2/3+4)\n",
    "print (x,y)"
   ]
  },
  {
   "cell_type": "code",
   "execution_count": null,
   "metadata": {},
   "outputs": [],
   "source": [
    "#plot points\n",
    "plt.plot(x, y,'o')\n",
    "plt.show()"
   ]
  },
  {
   "cell_type": "code",
   "execution_count": null,
   "metadata": {},
   "outputs": [],
   "source": [
    "#linear and cubic interpolations\n",
    "f1 = interpolate.interp1d(x, y, kind = 'linear')\n",
    "f2 = interpolate.interp1d(x, y, kind = 'cubic')\n",
    "print (f2(3.7))"
   ]
  },
  {
   "cell_type": "code",
   "execution_count": null,
   "metadata": {},
   "outputs": [],
   "source": [
    "xnew = np.linspace(0, 4,30)\n",
    "plt.plot(x, y, 'o', xnew, f1(xnew), '-', xnew, f2(xnew), '--')\n",
    "plt.legend(['data', 'linear', 'cubic','nearest'], loc = 'best')\n",
    "plt.show()"
   ]
  },
  {
   "cell_type": "code",
   "execution_count": null,
   "metadata": {},
   "outputs": [],
   "source": [
    "#ROOT finding\n",
    "import numpy as np\n",
    "import matplotlib.pyplot as plt\n",
    "def f(x):\n",
    "    return x**3 - 2*x\n",
    "\n",
    "x = np.linspace(-2,2,10) \n",
    "y = f(x)\n",
    "plt.plot (x,y,\"o--\") #plot the function\n",
    "plt.axhline(y=0, color='r', \n",
    "            linewidth=0.5, linestyle='-')\n",
    "plt.axvline(x=0, color='r', \n",
    "            linewidth=0.5, linestyle='-')\n",
    "plt.grid()\n",
    "plt.show()"
   ]
  },
  {
   "cell_type": "code",
   "execution_count": null,
   "metadata": {},
   "outputs": [],
   "source": [
    "#--------------\n",
    "#find root\n",
    "from scipy.optimize import fsolve, root\n",
    "#we need to specify an initial value\n",
    "x_initial = 3.0 #an initial value is needed for shooting\n",
    "#if function has multiple roots, we need to change the initial value\n",
    "x = fsolve(f, x_initial)           # one root is at x=2.0\n",
    "print(\"The root x is approximately x=\",x)"
   ]
  },
  {
   "cell_type": "code",
   "execution_count": null,
   "metadata": {},
   "outputs": [],
   "source": [
    "from scipy.optimize import fsolve, root\n",
    "\n",
    "#we need to specify an initial value\n",
    "x_initial = 3.0 #an initial value is needed for shooting\n",
    "#if function has multiple roots, we need to change the initial value\n",
    "rrr = root (f, x_initial, method=\"krylov\")           # one root is at x=2.0\n",
    "print(\"The root x is approximately x=\",rrr[\"x\"])\n",
    "print (\" output\\n\",20*\"-\",\"\\n\", rrr)"
   ]
  },
  {
   "cell_type": "code",
   "execution_count": null,
   "metadata": {},
   "outputs": [],
   "source": [
    "from scipy.optimize import fsolve, root\n",
    "\n",
    "#we need to specify an initial value\n",
    "x_initial = 3.0 #an initial value is needed for shooting\n",
    "#if function has multiple roots, we need to change the initial value\n",
    "#we can specify a method, and a tolerance\n",
    "rrr = root (f, x_initial, method=\"lm\", tol=1E-3)           # one root is at x=2.0\n",
    "print(\"The root x is approximately x=\",rrr[\"x\"])\n",
    "print (\" output\\n\",20*\"-\",\"\\n\", rrr)"
   ]
  },
  {
   "cell_type": "markdown",
   "metadata": {},
   "source": [
    "<br><hr><b><font color=\"red\">HW is due 07.12.20</font></b><br><br>\n",
    "We would like to investigate the real roots of any continuous, \n",
    "one variable functions in a given interval. <br>\n",
    "<b> Develop a simple python program to do the following tasks: </b>\n",
    "\n",
    "<ul>\n",
    "    <li> Write a function template as follows in a separate Jupyter cell <br><br>\n",
    "        <pre>\n",
    "        def f(x):\n",
    "            ......\n",
    "            </pre>\n",
    "        put a function of your choice as a test function. \n",
    "    </li>\n",
    "    <br>In a separate cell: <br>\n",
    "    <li> identify interval (real numbers!!) where we'll investigate roots. You should get interval as an input from the user </li>\n",
    "    <li> get a step size or number of points information from the user </li>\n",
    "    <li> obtain points in the interval using numpy arrange or linspace </li>\n",
    "    <br>In a separate cell: <br>   \n",
    "    <li> plot the function using matplotlib in the identified interval so that user could see if there are roots; so that user is able to modify interval, step size etc. in the previous cell. You are required to format axes, labels, grids, legends, titles, fonts etc. Your graphics should be catchy! </li>\n",
    "    <br>In a separate cell: <br>  \n",
    "    <li> Identify method to find the root (user should select the method a list) </li>\n",
    "    <li> Identify tolerance by getting input from the user (e.g. 1E-6 for 10^(-6) etc.)\n",
    "    <li> Program should find all the roots in the interval</li>\n",
    "    <li> Program should print all the roots in an understandable format</li>\n",
    "    <li> Program should give a proper message if there are no roots found in the interval</li>\n",
    "    <li> Program should handle all the errors related to user inputs and root finding. Use exception handling </li>\n",
    "    <br><b>HW submission</b> <br>\n",
    "    <li>Submit your .ipynb file on or before the due date</li>\n",
    "    <li>Put an explanation about your code in a separate cell -typically, first cell</li>\n",
    "    <li>Name variables wisely. Beautify your code. It should look like a piece of art! </li>\n",
    "</ul>"
   ]
  },
  {
   "cell_type": "code",
   "execution_count": null,
   "metadata": {},
   "outputs": [],
   "source": [
    "import numpy as np\n",
    "from scipy.optimize import curve_fit\n",
    "import matplotlib.pyplot as plt\n",
    "\n",
    "def f(x, a, b, c):\n",
    "    \"\"\"Fit function y=f(x,p) with parameters p=(a,b,c). \"\"\"\n",
    "    return a * np.exp(- b * x) + c\n",
    "\n",
    "#create fake data\n",
    "x = np.linspace(0, 4, 50)\n",
    "y = f(x, a=2.5, b=1.3, c=0.5)\n",
    "#add noise\n",
    "yi = y + 0.2 * np.random.normal(size=len(x))\n",
    "plt.plot(x, yi, 'o', label='data $y_i$')\n",
    "plt.show()"
   ]
  },
  {
   "cell_type": "code",
   "execution_count": null,
   "metadata": {},
   "outputs": [],
   "source": [
    "#call curve fit function\n",
    "popt, pcov = curve_fit(f, x, yi)\n",
    "a, b, c = popt\n",
    "print(\"Optimal parameters are a={}, b={}, and c={}\".format(a, b, c))\n",
    "\n",
    "#plotting\n",
    "import pylab\n",
    "yfitted = f(x, *popt)   # equivalent to f(x, popt[0], popt[1], popt[2])\n",
    "plt.plot(x, yi, 'o', label='data $y_i$')\n",
    "plt.plot(x, yfitted, '-', label='fit $f(x_i)$')\n",
    "plt.xlabel('x')\n",
    "plt.legend()\n",
    "plt.show()"
   ]
  },
  {
   "cell_type": "code",
   "execution_count": null,
   "metadata": {},
   "outputs": [],
   "source": [
    "#scipy cubic spline\n",
    "import matplotlib.pyplot as plt\n",
    "from scipy.interpolate import UnivariateSpline\n",
    "x = np.linspace(-3, 3, 50)\n",
    "y = np.exp(-x**2) + 0.1 * np.random.randn(50)\n",
    "plt.plot(x, y, 'ro', ms = 5)\n",
    "plt.show()"
   ]
  },
  {
   "cell_type": "code",
   "execution_count": null,
   "metadata": {},
   "outputs": [],
   "source": [
    "spl = UnivariateSpline(x, y)\n",
    "xs = np.linspace(-3, 3, 1000)\n",
    "#fine smoothing\n",
    "spl.set_smoothing_factor(0.5)\n",
    "plt.plot(x, y, 'ro', ms = 5)\n",
    "plt.plot(xs, spl(xs), 'b', lw = 3)\n",
    "plt.show()"
   ]
  },
  {
   "cell_type": "code",
   "execution_count": null,
   "metadata": {},
   "outputs": [],
   "source": [
    "#scipy linalg\n",
    "#solve linear equations systems\n",
    "#importing the scipy and numpy packages\n",
    "from scipy import linalg\n",
    "import numpy as np\n",
    "\n",
    "#Declaring the numpy arrays\n",
    "a = np.array([[1, 3, 5], [2, 5, 1], [2, 3, 8]])\n",
    "b = np.array([10, 8, 3])\n",
    "\n",
    "#Passing the values to the solve function\n",
    "x = linalg.solve(a, b)\n",
    "\n",
    "#printing the result array\n",
    "print (x)"
   ]
  },
  {
   "cell_type": "code",
   "execution_count": null,
   "metadata": {},
   "outputs": [],
   "source": [
    "#common mathematical functions\n",
    "x = np.arange(1,5)\n",
    "result = np.sqrt(x) * np.pi\n",
    "print (result)\n",
    "print (np.power(2,4)) #much faster than python equivalent\n",
    "print (x.max() - x.min())\n",
    "\n",
    "#exponential & log\n",
    "arr = np.array([10,8,4])\n",
    "print(np.exp(arr)) #e^x\n",
    "print (np.log(arr)) #ln(x), base is e\n",
    "print (\"e :\", np.e, \"pi:\", np.pi)\n",
    "print (np.log10(arr)) #log(x), base is 10\n",
    "print (np.log2(arr)) #log(x), base is 2\n",
    "\n",
    "#rounding\n",
    "print (\"\\nROUNDING\")\n",
    "arr = np.array([20.8999,67.89899,54.23409])  \n",
    "print(np.around(arr,2)) #round off with 2 decimals\n",
    "print(np.floor(arr)) #largest integer less than input number\n",
    "print(np.ceil(arr))  #smallest integer greater than input number\n",
    "\n",
    "#trigonometric\n",
    "print (\"\\nTRIGONOMETRIC FUNCTIONS\")\n",
    "arr = np.array([0, 30, 60, 90, 120, 150, 180])   \n",
    "print(np.sin(arr * np.pi / 180)) #sine function\n",
    "print(np.cos(arr * np.pi / 180)) #cosine\n",
    "print(np.tan(arr * np.pi / 180)) #tangent\n",
    "arr = np.array([0.5, 0.30, 0.67])\n",
    "print(np.arcsin(arr)*180/np.pi) #inverse sine function\n",
    "arr = np.array([30,60,90])\n",
    "print(np.sinh(arr * np.pi / 180)) #hyperbolic sine\n",
    "arr = np.array([1,2,3])\n",
    "print(np.arctanh(arr * np.pi / 180)) #hyperbolic inverse tangent\n",
    "\n",
    "#complex\n",
    "print (\"\\nCOMPLEX NUMBERS\")\n",
    "arr = np.array([1+2j])  \n",
    "print(np.isreal(arr)) #real test funtion\n",
    "print(np.conj(arr)) #conjugate funtion"
   ]
  },
  {
   "cell_type": "code",
   "execution_count": null,
   "metadata": {},
   "outputs": [],
   "source": [
    "#statistics\n",
    "a = np.array([1, 4, 3, 8, 9, 2, 3], float) \n",
    "print (\"median:\",np.median(a))\n",
    "b = np.array([[1, 2, 1, 3], [5, 3, 1, 8]], float) \n",
    "c = np.corrcoef(b) \n",
    "print (\"Correlation:\", c)\n",
    "d = np.corrcoef(a,a)\n",
    "print (\"Correlation:\", d)\n",
    "a = np.array([1,2,3,4,6,7,8,9])\n",
    "b = np.array([2,4,6,8,10,12,13,15])\n",
    "c = np.array([-1,-2,-2,-3,-4,-6,-7,-8])\n",
    "print (np.corrcoef([a,b,c]))\n",
    "print (\"Covariance: \", np.cov(a)) #covariance\n",
    "print (\"Variance: \", np.var(a)) #covariance\n",
    "print (\"Standard deviation: \", np.std(a)) #covariance"
   ]
  },
  {
   "cell_type": "code",
   "execution_count": null,
   "metadata": {},
   "outputs": [],
   "source": []
  }
 ],
 "metadata": {
  "kernelspec": {
   "display_name": "Python 3",
   "language": "python",
   "name": "python3"
  },
  "language_info": {
   "codemirror_mode": {
    "name": "ipython",
    "version": 3
   },
   "file_extension": ".py",
   "mimetype": "text/x-python",
   "name": "python",
   "nbconvert_exporter": "python",
   "pygments_lexer": "ipython3",
   "version": "3.8.5"
  }
 },
 "nbformat": 4,
 "nbformat_minor": 4
}
