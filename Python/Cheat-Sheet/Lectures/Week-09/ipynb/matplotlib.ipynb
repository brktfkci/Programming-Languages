{
 "cells": [
  {
   "cell_type": "code",
   "execution_count": null,
   "metadata": {},
   "outputs": [],
   "source": [
    "# To use matplotlib, first import the library\n",
    "import matplotlib.pyplot as plt"
   ]
  },
  {
   "cell_type": "code",
   "execution_count": null,
   "metadata": {},
   "outputs": [],
   "source": [
    "#simple graphics\n",
    "#only y values are specieied. x becomes the index values!\n",
    "plt.plot([2,4,6,8,10])\n",
    "plt.ylabel('I am y axis $x_2/{y^2}$') #TeX in labels is possible\n",
    "plt.xlabel('I am x axis')\n",
    "plt.show()"
   ]
  },
  {
   "cell_type": "code",
   "execution_count": null,
   "metadata": {},
   "outputs": [],
   "source": [
    "#we can specify x and y values as separate lists or numpy arrays\n",
    "plt.plot([1,2,3,4], [1,4,9,16])"
   ]
  },
  {
   "cell_type": "code",
   "execution_count": null,
   "metadata": {},
   "outputs": [],
   "source": [
    "#many simple plots at once\n",
    "import numpy as np\n",
    "def f(x):\n",
    "    return np.cos(x)/np.sqrt(np.abs(x))\n",
    "\n",
    "x = np.linspace(-2*np.pi,2*np.pi,100)\n",
    "plt.plot(x, np.sin(x))\n",
    "plt.plot(x, np.cos(x));\n",
    "plt.plot(x, f(x));\n",
    "plt.show()"
   ]
  },
  {
   "cell_type": "code",
   "execution_count": null,
   "metadata": {},
   "outputs": [],
   "source": [
    "#plot command takes parameters to arrange many plot parameters\n",
    "import matplotlib.pyplot as plt\n",
    "#put + symbol on data points. Make them in green\n",
    "plt.plot([1,2,3,4], [1,4,9,16], 'g+') \n",
    "plt.axis([0, 6, 0, 20])\n",
    "plt.show()"
   ]
  },
  {
   "cell_type": "code",
   "execution_count": null,
   "metadata": {},
   "outputs": [],
   "source": [
    "#plot command takes parameters to arrange many plot parameters\n",
    "import numpy as np\n",
    "import matplotlib.pyplot as plt\n",
    "#put o (circle) symbol on data points. Make them in red\n",
    "plt.plot([1,2,3,4], [1,4,9,16], color=\"red\", marker=\"o\", linestyle=\"\") \n",
    "plt.axis([0, 6, 0, 20])\n",
    "plt.show()"
   ]
  },
  {
   "cell_type": "code",
   "execution_count": null,
   "metadata": {},
   "outputs": [],
   "source": [
    "#Adjusting plots\n",
    "#COLORS\n",
    "import numpy as np\n",
    "import matplotlib.pyplot as plt\n",
    "plt.plot(x, np.sin(x - 0), color='blue')        # specify color by name\n",
    "plt.plot(x, np.sin(x - 1), color='g')           # short color code (rgbcmyk)\n",
    "plt.plot(x, np.sin(x - 2), color='0.75')        # Grayscale between 0 and 1\n",
    "plt.plot(x, np.sin(x - 3), color='#FFDD44')     # Hex code (RRGGBB from 00 to FF)\n",
    "plt.plot(x, np.sin(x - 4), color=(1.0,0.2,0.3)) # RGB tuple, values 0 to 1\n",
    "plt.plot(x, np.sin(x - 5), color='chartreuse'); # all HTML color names supported"
   ]
  },
  {
   "cell_type": "code",
   "execution_count": null,
   "metadata": {},
   "outputs": [],
   "source": [
    "#Adjusting plots\n",
    "#LINE STYLES\n",
    "import numpy as np\n",
    "import matplotlib.pyplot as plt\n",
    "plt.plot(x, x + 0, linestyle='solid')\n",
    "plt.plot(x, x + 1, linestyle='dashed')\n",
    "plt.plot(x, x + 2, linestyle='dashdot')\n",
    "plt.plot(x, x + 3, linestyle='dotted');\n",
    "\n",
    "# For short, you can use the following codes:\n",
    "plt.plot(x, x + 4, linestyle='-')  # solid\n",
    "plt.plot(x, x + 5, linestyle='--') # dashed\n",
    "plt.plot(x, x + 6, linestyle='-.') # dashdot\n",
    "plt.plot(x, x + 7, linestyle=':');  # dotted"
   ]
  },
  {
   "cell_type": "code",
   "execution_count": null,
   "metadata": {},
   "outputs": [],
   "source": [
    "#It is possible to combine line style and color\n",
    "import numpy as np\n",
    "import matplotlib.pyplot as plt\n",
    "plt.plot(x, x + 0, '-g')  # solid green\n",
    "plt.plot(x, x + 1, '--c') # dashed cyan\n",
    "plt.plot(x, x + 2, '-.k') # dashdot black\n",
    "plt.plot(x, x + 3, ':r');  # dotted red"
   ]
  },
  {
   "cell_type": "code",
   "execution_count": null,
   "metadata": {},
   "outputs": [],
   "source": [
    "#Adjusting plots\n",
    "#line width\n",
    "import numpy as np\n",
    "import matplotlib.pyplot as plt\n",
    "\n",
    "x = np.linspace(-2*np.pi,2*np.pi,100)\n",
    "plt.plot(x, np.sin(x), linewidth=3) #or, lw=3"
   ]
  },
  {
   "cell_type": "code",
   "execution_count": null,
   "metadata": {},
   "outputs": [],
   "source": [
    "#Adjusting plots\n",
    "#line marker\n",
    "import numpy as np\n",
    "import matplotlib.pyplot as plt\n",
    "\n",
    "x = np.linspace(-2*np.pi,2*np.pi,30)\n",
    "plt.plot(x, np.sin(x), linewidth=3, \n",
    "         marker=\"o\", markersize=16, markerfacecolor=\"red\",\n",
    "         markeredgecolor=\"black\",\n",
    "         fillstyle=\"top\",\n",
    "         markevery=0.09) #markevery has many other options"
   ]
  },
  {
   "cell_type": "code",
   "execution_count": null,
   "metadata": {},
   "outputs": [],
   "source": [
    "#Adjusting plots\n",
    "#axes limits\n",
    "import numpy as np\n",
    "import matplotlib.pyplot as plt\n",
    "\n",
    "def f(x):\n",
    "    return np.cos(x)/np.sqrt(np.abs(x))\n",
    "\n",
    "x = np.linspace(-2*np.pi,2*np.pi,100)\n",
    "plt.plot(x, f(x));\n",
    "plt.xlim(-5, 5)\n",
    "plt.ylim(-1, 5);\n",
    "plt.show()"
   ]
  },
  {
   "cell_type": "code",
   "execution_count": null,
   "metadata": {},
   "outputs": [],
   "source": [
    "#tighten the axes\n",
    "import numpy as np\n",
    "import matplotlib.pyplot as plt\n",
    "def f(x):\n",
    "    return np.cos(x)/np.sqrt(np.abs(x))\n",
    "\n",
    "x = np.linspace(-2*np.pi,2*np.pi,100)\n",
    "plt.plot(x, f(x));\n",
    "plt.axis('tight');\n",
    "plt.show()"
   ]
  },
  {
   "cell_type": "code",
   "execution_count": null,
   "metadata": {},
   "outputs": [],
   "source": [
    "#equal the axes (both axes have same limits)\n",
    "import numpy as np\n",
    "import matplotlib.pyplot as plt\n",
    "def f(x):\n",
    "    return np.cos(x)/np.sqrt(np.abs(x))\n",
    "\n",
    "x = np.linspace(-2*np.pi,2*np.pi,100)\n",
    "plt.plot(x, f(x));\n",
    "plt.axis('equal');\n",
    "plt.show()"
   ]
  },
  {
   "cell_type": "code",
   "execution_count": null,
   "metadata": {},
   "outputs": [],
   "source": [
    "#Adjusting plots\n",
    "#Setting labels\n",
    "import numpy as np\n",
    "import matplotlib.pyplot as plt\n",
    "\n",
    "x = np.linspace(-2*np.pi,2*np.pi,100)\n",
    "plt.plot(x, np.sin(x))\n",
    "plt.title(\"A Sine Curve\")\n",
    "plt.xlabel(\"x\")\n",
    "plt.ylabel(\"sin(x)\")"
   ]
  },
  {
   "cell_type": "code",
   "execution_count": null,
   "metadata": {},
   "outputs": [],
   "source": [
    "x = np.linspace(0,20,100)\n",
    "y = np.sqrt(x)\n",
    "plt.plot(x,y)\n",
    "plt.title(\"x vs $\\sqrt{x}$\")\n",
    "plt.xlabel(\"x\")\n",
    "plt.ylabel(\"y=$\\sqrt{x}$\")\n",
    "plt.show()"
   ]
  },
  {
   "cell_type": "code",
   "execution_count": null,
   "metadata": {},
   "outputs": [],
   "source": [
    "#Adjusting plots\n",
    "#Setting labels\n",
    "import numpy as np\n",
    "import matplotlib.pyplot as plt\n",
    "\n",
    "x = np.linspace(-2*np.pi,2*np.pi,100)\n",
    "plt.plot(x, np.sin(x))\n",
    "plt.title(\"A Sine Curve\")\n",
    "plt.xlabel(\"x\")\n",
    "plt.ylabel(\"sin(x)\", fontsize=16, \n",
    "           fontweight=\"bold\", color=\"magenta\",\n",
    "           fontname=\"Times\");"
   ]
  },
  {
   "cell_type": "code",
   "execution_count": null,
   "metadata": {},
   "outputs": [],
   "source": [
    "#Adjusting plots\n",
    "#Setting labels' locations\n",
    "import numpy as np\n",
    "import matplotlib.pyplot as plt\n",
    "\n",
    "x = np.linspace(-2*np.pi,2*np.pi,100)\n",
    "plt.plot(x, np.sin(x))\n",
    "plt.title(\"A Sine Curve\", loc=\"right\") #left, right\n",
    "plt.xlabel(\"x\", loc=\"right\") #left, right\n",
    "plt.ylabel(\"sin(x)\", loc=\"bottom\") # top, bottom\n",
    "plt.show();"
   ]
  },
  {
   "cell_type": "code",
   "execution_count": null,
   "metadata": {},
   "outputs": [],
   "source": [
    "#Adjusting plots\n",
    "#tickmarks\n",
    "import numpy as np\n",
    "import matplotlib.pyplot as plt\n",
    "\n",
    "x = np.linspace(-2*np.pi,2*np.pi,100)\n",
    "plt.plot(x, np.sin(x))\n",
    "plt.title(\"A Sine Curve\", loc=\"right\") #left, right\n",
    "plt.xlabel(\"x\", loc=\"right\") #left, right\n",
    "plt.ylabel(\"sin(x)\", loc=\"bottom\") # top, bottom\n",
    "plt.xticks(rotation=45, fontsize=14, color=\"b\", ha=\"right\")\n",
    "plt.yticks(rotation=45);\n",
    "plt.show();"
   ]
  },
  {
   "cell_type": "code",
   "execution_count": null,
   "metadata": {},
   "outputs": [],
   "source": [
    "#Setting up grids\n",
    "#Adjusting plots\n",
    "#Setting labels\n",
    "import numpy as np\n",
    "import matplotlib.pyplot as plt\n",
    "\n",
    "x = np.linspace(-2*np.pi,2*np.pi,100)\n",
    "plt.plot(x, np.sin(x))\n",
    "plt.title(\"A Sine Curve\")\n",
    "plt.xlabel(\"x\")\n",
    "plt.ylabel(\"sin(x)\")\n",
    "plt.grid(color='r', ls = '-.', lw = 0.5)"
   ]
  },
  {
   "cell_type": "code",
   "execution_count": null,
   "metadata": {},
   "outputs": [],
   "source": [
    "y_sin = np.sin(x)\n",
    "y_cos = np.cos(x)\n",
    "\n",
    "# Plot the points using matplotlib\n",
    "plt.plot(x, y_sin)\n",
    "plt.plot(x, y_cos)\n",
    "plt.xlabel('x axis label')\n",
    "plt.ylabel('y axis label')\n",
    "plt.title('Sine and Cosine')\n",
    "plt.legend(['Sine', 'Cosine'], loc=\"upper right\")"
   ]
  },
  {
   "cell_type": "code",
   "execution_count": null,
   "metadata": {},
   "outputs": [],
   "source": [
    "# SUBPLOTS\n",
    "# Compute the x and y coordinates for points on sine and cosine curves\n",
    "x = np.arange(0, 3 * np.pi, 0.1)\n",
    "y_sin = np.sin(x)\n",
    "y_cos = np.cos(x)\n",
    "\n",
    "# Set up a subplot grid that has height 2 and width 1,\n",
    "# and set the first such subplot as active.\n",
    "plt.subplot(2, 1, 1)\n",
    "\n",
    "# Make the first plot\n",
    "plt.plot(x, y_sin)\n",
    "plt.title('Sine')\n",
    "\n",
    "# Set the second subplot as active, and make the second plot.\n",
    "plt.subplot(2, 1, 2)\n",
    "plt.plot(x, y_cos)\n",
    "plt.title('Cosine')\n",
    "\n",
    "# Show the figure.\n",
    "plt.show()"
   ]
  },
  {
   "cell_type": "markdown",
   "metadata": {},
   "source": [
    "For more info and more examples visit\n",
    "https://matplotlib.org/api/pyplot_api.html#matplotlib.pyplot.subplot"
   ]
  }
 ],
 "metadata": {
  "kernelspec": {
   "display_name": "Python 3",
   "language": "python",
   "name": "python3"
  },
  "language_info": {
   "codemirror_mode": {
    "name": "ipython",
    "version": 3
   },
   "file_extension": ".py",
   "mimetype": "text/x-python",
   "name": "python",
   "nbconvert_exporter": "python",
   "pygments_lexer": "ipython3",
   "version": "3.8.5"
  }
 },
 "nbformat": 4,
 "nbformat_minor": 4
}
