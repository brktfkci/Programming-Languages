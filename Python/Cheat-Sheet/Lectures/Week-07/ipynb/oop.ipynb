{
 "cells": [
  {
   "cell_type": "markdown",
   "metadata": {},
   "source": [
    "Hello OOP\n",
    "===========\n",
    "# This is a general intro to object oriented programming"
   ]
  },
  {
   "cell_type": "code",
   "execution_count": null,
   "metadata": {},
   "outputs": [],
   "source": [
    "mylist = list()\n",
    "mylist.append('python')\n",
    "mylist.append('OzU')\n",
    "mylist.append('EE393')\n",
    "mylist.sort()\n",
    "print (mylist[0])\n",
    "print (mylist.__getitem__(0))\n",
    "print (list.__getitem__(mylist,0))"
   ]
  },
  {
   "cell_type": "code",
   "execution_count": null,
   "metadata": {},
   "outputs": [],
   "source": [
    "#built-in objects; string\n",
    "x = 'abc'\n",
    "print (type(x))\n",
    "print (dir(type(x)))"
   ]
  },
  {
   "cell_type": "code",
   "execution_count": null,
   "metadata": {},
   "outputs": [],
   "source": [
    "#built-in objects; fict\n",
    "x = dict()\n",
    "print (type(x))\n",
    "print (dir(type(x)))"
   ]
  },
  {
   "cell_type": "code",
   "execution_count": null,
   "metadata": {},
   "outputs": [],
   "source": [
    "#built-in objects; int\n",
    "x = 5\n",
    "print (type(x))\n",
    "print (dir(type(x)))"
   ]
  },
  {
   "cell_type": "code",
   "execution_count": null,
   "metadata": {},
   "outputs": [],
   "source": [
    "#simple class\n",
    "class Person:\n",
    "    def say_hi(self):\n",
    "        print('Hello, how are you?')\n",
    "\n",
    "p = Person()\n",
    "p.say_hi()"
   ]
  },
  {
   "cell_type": "code",
   "execution_count": null,
   "metadata": {},
   "outputs": [],
   "source": [
    "#simple class v2\n",
    "class Person:\n",
    "#constructor -see the default value in function\n",
    "    def __init__(self, tmp=\"\"):\n",
    "        self.name = tmp\n",
    "        \n",
    "    def say_hi(self):\n",
    "        print('Hello {0:s}, how are you?'.format(self.name))\n",
    "\n",
    "p = Person()\n",
    "p.say_hi()\n",
    "p2 = Person (\"Jon Snow\")\n",
    "p2.say_hi()"
   ]
  },
  {
   "cell_type": "code",
   "execution_count": null,
   "metadata": {},
   "outputs": [],
   "source": [
    "class myLine: \n",
    "#constructor\n",
    "    def __init__(self,a=0,b=0,c=1,d=1):\n",
    "        self.x1=a; self.y1=b;\n",
    "        self.x2=c; self.y2=d\n",
    "    \n",
    "    def length(self): #returns length \n",
    "        import math\n",
    "        dx = self.x1-self.x2 \n",
    "        dy = self.y1-self.y2\n",
    "        ll = math.sqrt(dx*dx + dy*dy)\n",
    "        return ll\n",
    "    \n",
    "    def moveX(self, dx1=0,dx2=0):\n",
    "        self.x1 += dx1\n",
    "        self.x2 += dx2\n",
    "\n",
    "    def moveY(self, dy1=0,dy2=0):\n",
    "        self.y1 += dy1\n",
    "        self.y2 += dy2\n",
    "    \n",
    "    def slope(self):\n",
    "        return (self.y2-self.y1)/(self.x2-self.x1)\n",
    "\n",
    "line1 = myLine() #default line (0,0)-(1,1)\n",
    "line2 = myLine(2.7,-0.5,6.25,3) #(1.7,-0.5)-(6.25,3)\n",
    "print (\"length of line1 :\", line1.length())\n",
    "print (\"length of line2 :\", line2.length())\n",
    "line1.moveX(1,3)\n",
    "print (\"length of line1 :\", line1.length())\n",
    "print (\"slope of line 2 :\", line2.slope())\n",
    "    "
   ]
  },
  {
   "cell_type": "code",
   "execution_count": null,
   "metadata": {},
   "outputs": [],
   "source": [
    "import line\n",
    "print (dir(line.myLine))"
   ]
  },
  {
   "cell_type": "code",
   "execution_count": null,
   "metadata": {},
   "outputs": [],
   "source": [
    "import line\n",
    "l1 = line.myLine(1,2,-2,4)\n",
    "print (\"length of line :\", l1.length())\n",
    "l1.moveX(1,3) #(x1=x1+1 and x2=x2+3)\n",
    "l1.moveY(0,-2) #(y2=y2-2)\n",
    "print (\"length of line :\", l1.length())"
   ]
  },
  {
   "cell_type": "code",
   "execution_count": null,
   "metadata": {},
   "outputs": [],
   "source": [
    "class simpleEqn:\n",
    "#solver\n",
    "    def solve(self):\n",
    "        import math\n",
    "        for x in [self.a, self.b, self.c]:\n",
    "            if (type(x)!=int) and (type(x)!=float): \n",
    "                return [\"invalid input\"]\n",
    "        if self.a==0:\n",
    "            return [\"it's not a 2nd order eqn\"]\n",
    "        roots = [0,0]\n",
    "        d = self.b**2 - 4*self.a*self.c\n",
    "        if (d<0):\n",
    "            roots = [\"no real root\"]\n",
    "        else:\n",
    "            roots[0] = (-self.b + math.sqrt(d))/(2*self.a)\n",
    "            roots[1] = (-self.b - math.sqrt(d))/(2*self.a)\n",
    "        return roots\n",
    "    \n",
    "#default constructor\n",
    "    def __init__(self, aa=1, bb=1, cc=1):\n",
    "        self.a = aa\n",
    "        self.b = bb\n",
    "        self.c = cc \n",
    "#----------------\n",
    "myEquation = simpleEqn(1,4,2)\n",
    "print (\"Coeffs:\", myEquation.a, myEquation.b, myEquation.c)\n",
    "print (\"Solution :\",myEquation.solve())\n",
    "\n",
    "myEquation2 = simpleEqn(-1,4,-6)\n",
    "print (\"Coeffs:\", myEquation2.a, myEquation2.b, myEquation2.c)\n",
    "print (\"Solution :\",myEquation2.solve())\n"
   ]
  },
  {
   "cell_type": "markdown",
   "metadata": {},
   "source": [
    "<b>class QuadEqn</b> contains methods suitable for working with<br>\n",
    "2nd order equations given as ax^2+bx+c=0 <br>\n",
    "The methods are:\n",
    "- delta() : returns b^2-4ac\n",
    "- sumOfRoots() : returns -b/a\n",
    "- multOfRoots() : returns c/a\n",
    "- solve () : solves the equation and returns a list\n",
    "- printEquation () : prints equation in a fancy format\n",
    "- _ _add_ _ : adds two equation to each other by overloading \"+\"\n",
    "- change() : changes the coefficients of the equation\n",
    "\n",
    "Usage : <br>\n",
    "eqn1 = QuadEqn(-3,-9,5, \"my equation1\") is used to define -3x^2-9x+5=0 <br>\n",
    "Then, eqn1.solve() returns a list which contains solution!\n"
   ]
  },
  {
   "cell_type": "code",
   "execution_count": null,
   "metadata": {},
   "outputs": [],
   "source": [
    "class QuadEqn:\n",
    "    count = 0 \n",
    "    \n",
    "#returns b^2-4ac\n",
    "    def delta(self):\n",
    "        return self.b**2 - 4*self.a*self.c\n",
    "    \n",
    "#returns sum of roots\n",
    "    def sumOfRoots(self):\n",
    "        return -self.b/self.a\n",
    "    \n",
    "#returns multiplication of roots\n",
    "    def multOfRoots(self):\n",
    "        return self.c/self.a\n",
    "    \n",
    "#solves equation and returns solution as a list\n",
    "    def solve(self):\n",
    "        import math\n",
    "        for x in [self.a, self.b, self.c]:\n",
    "            if (type(x)!=int) and (type(x)!=float): \n",
    "                return [\"invalid input\"]\n",
    "        if self.a==0:\n",
    "            return [\"it's not a 2nd order eqn\"]\n",
    "        roots = [0,0]\n",
    "        d = self.delta()\n",
    "        if (d<0):\n",
    "            roots = [\"no real root\"]\n",
    "        else:\n",
    "            roots[0] = (-self.b + math.sqrt(d))/(2*self.a)\n",
    "            roots[1] = (-self.b - math.sqrt(d))/(2*self.a)\n",
    "        return roots\n",
    "    \n",
    "#default constructor\n",
    "    def __init__(self,aa=1, bb=1, cc=1, name=\"unspecified\"):\n",
    "        self.a = aa\n",
    "        self.b = bb\n",
    "        self.c = cc \n",
    "        self.name = name\n",
    "        QuadEqn.count += 1\n",
    "    \n",
    "#fancy printing of the equation\n",
    "    def printEquation (self):\n",
    "        print(\"Equation name => \", self.name, \":\",end=\"\",sep=\"\")\n",
    "        if self.a!=1: print (self.a,\"x^2\",end=\"\",sep=\"\")\n",
    "        else:         print (\"x^2\",end=\"\",sep=\"\")\n",
    "        if self.b<0:  print (self.b,\"x\",end=\"\",sep=\"\")\n",
    "        else:         print (\"+\",self.b,\"x\",end=\"\",sep=\"\")\n",
    "        if self.c<0:  print (self.c,\"=0\",end=\"\",sep=\"\")\n",
    "        else:         print (\"+\",self.c,\"=0\",end=\"\\n\",sep=\"\") \n",
    "    \n",
    "#operator overloading\n",
    "#add two equations to each other\n",
    "    def __add__(self, s): #overloading\n",
    "        tmp1 = self.a + s.a\n",
    "        tmp2 = self.b + s.b\n",
    "        tmp3 = self.c + s.c\n",
    "        return QuadEqn(tmp1, tmp2, tmp3)\n",
    "\n",
    "#changes an already defined equation\n",
    "    def change(self,aa,bb,cc,n):\n",
    "        self.a = aa\n",
    "        self.b = bb\n",
    "        self.c = cc \n",
    "        self.name = n\n",
    "        "
   ]
  },
  {
   "cell_type": "code",
   "execution_count": null,
   "metadata": {},
   "outputs": [],
   "source": [
    "eqn1 = QuadEqn(-3,-9,5, name=\"Equation 1\")\n",
    "eqn2 = QuadEqn(2,2,3, \"Eqn 2\")\n",
    "eqn1.printEquation()\n",
    "solution=eqn1.solve()\n",
    "print (solution)\n",
    "print (\"delta is\", eqn1.delta())\n",
    "print (eqn1.sumOfRoots())\n",
    "print (eqn1.multOfRoots())\n",
    "eqn2.printEquation()\n",
    "eqn3 = eqn1 + eqn2 # + is overloaded\n",
    "eqn3.printEquation()\n",
    "print (\"Number of Equations:\",QuadEqn.count)\n",
    "eqn3.change(2,2,2,\"new\")\n",
    "eqn3.printEquation()\n",
    "eqnList=[eqn1,eqn2,eqn3]\n",
    "print (eqnList)"
   ]
  },
  {
   "cell_type": "code",
   "execution_count": null,
   "metadata": {},
   "outputs": [],
   "source": [
    "dir (QuadEqn)"
   ]
  },
  {
   "cell_type": "code",
   "execution_count": null,
   "metadata": {},
   "outputs": [],
   "source": [
    "#access modifiers: __ and _\n",
    "\n",
    "class Person:\n",
    "    def __init__(self):\n",
    "        self.A = 'Ali Veli'\n",
    "        self.__B ='Natalie Portman'\n",
    "    \n",
    "    def PrintName(self):\n",
    "        print (self.A)\n",
    "        print (self.__B)\n",
    "#--------------------\n",
    "P = Person ()"
   ]
  },
  {
   "cell_type": "code",
   "execution_count": null,
   "metadata": {},
   "outputs": [],
   "source": [
    "print (P.A) #print is OK"
   ]
  },
  {
   "cell_type": "code",
   "execution_count": null,
   "metadata": {},
   "outputs": [],
   "source": [
    "print (P.B) \n",
    "#print is NOT OK. No attribute named B"
   ]
  },
  {
   "cell_type": "code",
   "execution_count": null,
   "metadata": {},
   "outputs": [],
   "source": [
    "print (P.__B) \n",
    "#print is NOT OK. __B is private to class; not accessible from outside"
   ]
  },
  {
   "cell_type": "code",
   "execution_count": null,
   "metadata": {},
   "outputs": [],
   "source": [
    "print (P.PrintName())   #This is OK"
   ]
  },
  {
   "cell_type": "code",
   "execution_count": null,
   "metadata": {},
   "outputs": [],
   "source": [
    "#Accessibility\n",
    "class C:\n",
    "    def accessible(self):\n",
    "        print (\"you can see me\")\n",
    "    \n",
    "    def __inaccessible(self):\n",
    "        print (\"you can NOT see me\")\n",
    "\n",
    "var1 = C()\n",
    "var1.accessible()\n",
    "var1.__inaccessible()"
   ]
  },
  {
   "cell_type": "code",
   "execution_count": null,
   "metadata": {},
   "outputs": [],
   "source": [
    "var1._C__inaccessible()"
   ]
  },
  {
   "cell_type": "code",
   "execution_count": null,
   "metadata": {},
   "outputs": [],
   "source": []
  }
 ],
 "metadata": {
  "kernelspec": {
   "display_name": "Python 3",
   "language": "python",
   "name": "python3"
  },
  "language_info": {
   "codemirror_mode": {
    "name": "ipython",
    "version": 3
   },
   "file_extension": ".py",
   "mimetype": "text/x-python",
   "name": "python",
   "nbconvert_exporter": "python",
   "pygments_lexer": "ipython3",
   "version": "3.8.3"
  }
 },
 "nbformat": 4,
 "nbformat_minor": 4
}
