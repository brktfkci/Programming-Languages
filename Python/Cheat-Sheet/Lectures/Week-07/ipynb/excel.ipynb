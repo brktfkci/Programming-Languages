{
 "cells": [
  {
   "cell_type": "markdown",
   "metadata": {},
   "source": [
    "WORKING WITH EXCEL FILES\n",
    "------------------------\n",
    "EE393 Python for Engineers"
   ]
  },
  {
   "cell_type": "code",
   "execution_count": 1,
   "metadata": {},
   "outputs": [],
   "source": [
    "import openpyxl;\n",
    "wb = openpyxl.load_workbook(filename = 'sample.xlsx', data_only = True)"
   ]
  },
  {
   "cell_type": "code",
   "execution_count": 2,
   "metadata": {},
   "outputs": [
    {
     "name": "stdout",
     "output_type": "stream",
     "text": [
      "['Grades', 'Explanations', 'Sheet2', 'Sheet3']\n"
     ]
    }
   ],
   "source": [
    "mySheets = wb.sheetnames #get sheet names\n",
    "print (mySheets) #print sheet names"
   ]
  },
  {
   "cell_type": "code",
   "execution_count": 3,
   "metadata": {},
   "outputs": [],
   "source": [
    "#set the active work sheet as grades\n",
    "gradesSheet = wb['Grades']\n",
    "\n",
    "#or, you may use the index value for the work sheet\n",
    "#gradesSheet = wb.worksheets[0]"
   ]
  },
  {
   "cell_type": "code",
   "execution_count": 4,
   "metadata": {},
   "outputs": [
    {
     "name": "stdout",
     "output_type": "stream",
     "text": [
      "Sheet name: Grades\n"
     ]
    }
   ],
   "source": [
    "print (\"Sheet name: {0:s}\".format(gradesSheet.title))"
   ]
  },
  {
   "cell_type": "code",
   "execution_count": 5,
   "metadata": {},
   "outputs": [
    {
     "name": "stdout",
     "output_type": "stream",
     "text": [
      "Number of rows: 47, number of columns: 19\n"
     ]
    }
   ],
   "source": [
    "# Getting (max) number of rows and columns\n",
    "M = gradesSheet.max_row\n",
    "N = gradesSheet.max_column\n",
    "print(\"Number of rows: {}, number of columns: {}\".format(M,N))"
   ]
  },
  {
   "cell_type": "code",
   "execution_count": 6,
   "metadata": {},
   "outputs": [
    {
     "name": "stdout",
     "output_type": "stream",
     "text": [
      "Min. row no: 1, min. column no: 1\n"
     ]
    }
   ],
   "source": [
    "# Getting (min) rows and columns no\n",
    "Mm = gradesSheet.min_row\n",
    "Nn = gradesSheet.min_column\n",
    "print(\"Min. row no: {}, min. column no: {}\".format(Mm,Nn))"
   ]
  },
  {
   "cell_type": "code",
   "execution_count": 7,
   "metadata": {},
   "outputs": [
    {
     "name": "stdout",
     "output_type": "stream",
     "text": [
      "A1:S47\n"
     ]
    }
   ],
   "source": [
    "#Getting sheet dimensions in Excel notation\n",
    "rangeSheet = gradesSheet.dimensions\n",
    "print (rangeSheet)"
   ]
  },
  {
   "cell_type": "code",
   "execution_count": null,
   "metadata": {},
   "outputs": [],
   "source": [
    "#See below how we iterate over the whole table\n",
    "for c in gradesSheet[gradesSheet.dimensions]:\n",
    "    c = list(c)\n",
    "    for x in c:\n",
    "        print (x.value, end=\" \")\n",
    "    print(\"\\n\")"
   ]
  },
  {
   "cell_type": "code",
   "execution_count": null,
   "metadata": {},
   "outputs": [],
   "source": [
    "#Get column names which are at row no:1\n",
    "columns = {}\n",
    "for i in range(1, N + 1): \n",
    "    cell_obj = gradesSheet.cell(row = 1, column = i) \n",
    "    print (\"No: {0}, Column name: {1}\".format(i, cell_obj.value))\n",
    "    columns[i] = cell_obj.value;\n",
    "print (columns)"
   ]
  },
  {
   "cell_type": "code",
   "execution_count": null,
   "metadata": {},
   "outputs": [],
   "source": [
    "#read all the GPAs in the GPA column\n",
    "for i in range (2,M+1):\n",
    "    cell_obj = gradesSheet.cell(row = i, column = 17) \n",
    "    print (\"No: {0}, row no: {1}\".format(i, cell_obj.value))"
   ]
  },
  {
   "cell_type": "code",
   "execution_count": null,
   "metadata": {},
   "outputs": [],
   "source": [
    "#read all the GPAs in the GPA column and strip everything till :\n",
    "allgrades=[]\n",
    "\n",
    "#read all the GPAs in the GPA column\n",
    "for i in range (2,M+1):\n",
    "    cell_obj = gradesSheet.cell(row = i, column = 17) \n",
    "    allgrades.append(cell_obj.value)\n",
    "    print (\"No: {0}, row no: {1}\".format(i, cell_obj.value))\n",
    "print (\"Class average is \",round(sum(allgrades)/len(allgrades),3))"
   ]
  },
  {
   "cell_type": "code",
   "execution_count": null,
   "metadata": {},
   "outputs": [],
   "source": [
    "#we can retrieve data using cell references aswell!\n",
    "tmp = gradesSheet[\"R9\"].value #returns value\n",
    "print (tmp)\n",
    "print (gradesSheet.cell(8,1).value)\n",
    "print (gradesSheet.cell(8,2).value)\n",
    "print (gradesSheet.cell(8,3).value)"
   ]
  },
  {
   "cell_type": "code",
   "execution_count": null,
   "metadata": {},
   "outputs": [],
   "source": [
    "#create a new excel file, put something in it, and save it\n",
    "import openpyxl;\n",
    "workbook = openpyxl.Workbook()\n",
    "sheet = workbook.active\n",
    "\n",
    "sheet[\"A1\"] = \"hello\" #A1 is the cell reference\n",
    "sheet[\"B1\"] = \"world!\"\n",
    "sheet.cell(5,2).value = \"hiiii\"\n",
    "sheet.cell(row=6,column=4).value = \"hiiii222\"\n",
    "sheet.cell(4,7).value=3.1416\n",
    "for i in range(1,11):\n",
    "    sheet.cell(row=10,column=i).value=\"N/A\"\n",
    "workbook.save(filename=\"hello_world.xlsx\")"
   ]
  },
  {
   "cell_type": "code",
   "execution_count": null,
   "metadata": {},
   "outputs": [],
   "source": [
    "#insert a row at line 5\n",
    "workbook = openpyxl.load_workbook(filename = 'hello_world.xlsx')\n",
    "sheet = workbook.active\n",
    "sheet.insert_rows(5)\n",
    "workbook.save(\"hello2.xlsx\")"
   ]
  },
  {
   "cell_type": "code",
   "execution_count": null,
   "metadata": {},
   "outputs": [],
   "source": [
    "#insert a column at column no 2\n",
    "workbook = openpyxl.load_workbook(filename = 'hello2.xlsx')\n",
    "sheet = workbook.active\n",
    "sheet.insert_cols(2) #to insert multiple, use two parameters\n",
    "workbook.save(\"hello2.xlsx\")"
   ]
  },
  {
   "cell_type": "code",
   "execution_count": null,
   "metadata": {},
   "outputs": [],
   "source": [
    "#appending values \n",
    "workbook = openpyxl.load_workbook(filename = 'hello2.xlsx')\n",
    "sheet = workbook.active\n",
    "rows = (\n",
    "    (88, 46, 57),\n",
    "    (89, 38, 12),\n",
    "    (23, 59, 78),\n",
    "    (56, 21, 98),\n",
    "    (24, 18, 43),\n",
    "    (34, 15, 67)\n",
    ")\n",
    "\n",
    "for row in rows:   #we appended above values to the end of the work sheet\n",
    "    sheet.append(row)\n",
    "workbook.save(\"hello2.xlsx\")"
   ]
  },
  {
   "cell_type": "code",
   "execution_count": null,
   "metadata": {},
   "outputs": [],
   "source": [
    "#delete row(s)\n",
    "workbook = openpyxl.load_workbook(filename = 'hello2.xlsx')\n",
    "sheet = workbook.active\n",
    "#delete multiple row at once -if we supply one param, that row will be deleted\n",
    "sheet.delete_rows(2,3)\n",
    "workbook.save(\"hello3.xlsx\")\n",
    "\n",
    "#for column deletion, use sheet.delete_cols()"
   ]
  },
  {
   "cell_type": "code",
   "execution_count": null,
   "metadata": {},
   "outputs": [],
   "source": [
    "#create a new sheet\n",
    "workbook = openpyxl.load_workbook(filename = 'hello2.xlsx')\n",
    "workbook.create_sheet(\"Özyeğin Üniv\")\n",
    "workbook.create_sheet(\"OZU\",0) #create as first sheet\n",
    "workbook.save(\"hello2.xlsx\")"
   ]
  },
  {
   "cell_type": "code",
   "execution_count": null,
   "metadata": {},
   "outputs": [],
   "source": [
    "#removing work sheets\n",
    "workbook = openpyxl.load_workbook(filename = 'hello2.xlsx')\n",
    "try:\n",
    "    sheet1 = workbook[\"Özyeğin Üniv\"]\n",
    "    workbook.remove (sheet1)\n",
    "    workbook.save(\"hello2.xlsx\")\n",
    "    print (\"removed\")\n",
    "except:\n",
    "    print (\"not exist\")"
   ]
  },
  {
   "cell_type": "code",
   "execution_count": null,
   "metadata": {},
   "outputs": [],
   "source": [
    "#Add a date (see last week's handout)\n",
    "import datetime\n",
    "now = datetime.datetime.now() \n",
    "date_time = now.strftime(\"%d.%m.%Y\")\n",
    "\n",
    "workbook = openpyxl.Workbook()  #create a new workbook\n",
    "sheet = workbook.active\n",
    "sheet.title = date_time\n",
    "sheet['C3'] = date_time\n",
    "workbook.save(filename=\"dateeee.xlsx\")"
   ]
  },
  {
   "cell_type": "code",
   "execution_count": null,
   "metadata": {},
   "outputs": [],
   "source": []
  }
 ],
 "metadata": {
  "kernelspec": {
   "display_name": "Python 3",
   "language": "python",
   "name": "python3"
  },
  "language_info": {
   "codemirror_mode": {
    "name": "ipython",
    "version": 3
   },
   "file_extension": ".py",
   "mimetype": "text/x-python",
   "name": "python",
   "nbconvert_exporter": "python",
   "pygments_lexer": "ipython3",
   "version": "3.8.3"
  }
 },
 "nbformat": 4,
 "nbformat_minor": 4
}
