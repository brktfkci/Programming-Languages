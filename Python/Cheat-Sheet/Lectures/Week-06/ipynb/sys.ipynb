{
 "cells": [
  {
   "cell_type": "code",
   "execution_count": null,
   "metadata": {},
   "outputs": [],
   "source": [
    "#sys\n",
    "import sys\n",
    "print (\"max integer value a variable can take\", sys.maxsize)\n",
    "print (\"Float info: \", sys.float_info)\n",
    "print (sys.getdefaultencoding())"
   ]
  },
  {
   "cell_type": "code",
   "execution_count": null,
   "metadata": {},
   "outputs": [],
   "source": [
    "import sys\n",
    "#Note that every string in Python takes additional 49-80 bytes of memory, \n",
    "#where it stores supplementary information, such as hash, \n",
    "#length, length in bytes, encoding type and string flags\n",
    "x = 150\n",
    "y = 'Hello'\n",
    "print (\"Size of\",y,\"in bytes is :\",sys.getsizeof(y))\n",
    "#Note that numbers are 64 bit. An int will occupy 28 bytes\n",
    "#Python numbers are limited only with memory\n",
    "print (\"Size of\",x,\"in bytes is :\",sys.getsizeof(x))"
   ]
  },
  {
   "cell_type": "code",
   "execution_count": null,
   "metadata": {},
   "outputs": [],
   "source": [
    "import sys\n",
    "print (\"Current path is\", sys.path)"
   ]
  },
  {
   "cell_type": "code",
   "execution_count": null,
   "metadata": {},
   "outputs": [],
   "source": [
    "import sys\n",
    "print (\"Python version :\", sys.version)\n",
    "print (\"Int info :\", sys.int_info)\n",
    "print (\"The platform you are running Python is : \", sys.platform)\n",
    "print (\"The directory prefix of python interpreter :\", sys.prefix)"
   ]
  },
  {
   "cell_type": "code",
   "execution_count": null,
   "metadata": {},
   "outputs": [],
   "source": []
  }
 ],
 "metadata": {
  "kernelspec": {
   "display_name": "Python 3",
   "language": "python",
   "name": "python3"
  },
  "language_info": {
   "codemirror_mode": {
    "name": "ipython",
    "version": 3
   },
   "file_extension": ".py",
   "mimetype": "text/x-python",
   "name": "python",
   "nbconvert_exporter": "python",
   "pygments_lexer": "ipython3",
   "version": "3.8.5"
  }
 },
 "nbformat": 4,
 "nbformat_minor": 4
}
