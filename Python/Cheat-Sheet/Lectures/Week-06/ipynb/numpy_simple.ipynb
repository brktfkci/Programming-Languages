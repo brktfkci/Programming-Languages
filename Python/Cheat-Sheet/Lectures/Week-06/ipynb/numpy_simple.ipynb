{
 "cells": [
  {
   "cell_type": "code",
   "execution_count": null,
   "metadata": {},
   "outputs": [],
   "source": [
    "\"\"\"\n",
    "Solution of the following linear equation using numpy\n",
    "3*x0 + x1   + 2*x2 = 9 \n",
    "x0   + 2*x1 + 4*x2 = 8\n",
    "-x0  - 2*x1 +2.5*x2= 1\n",
    "\"\"\"\n",
    "\n",
    "import numpy as np\n",
    "a = np.array([[3,1,2], [1,2,4] , [-1,-2,2.5]]) \n",
    "b = np.array([9,8,1]) \n",
    "x = np.linalg.solve(a, b) \n",
    "print (x)"
   ]
  },
  {
   "cell_type": "code",
   "execution_count": null,
   "metadata": {},
   "outputs": [],
   "source": []
  }
 ],
 "metadata": {
  "kernelspec": {
   "display_name": "Python 3",
   "language": "python",
   "name": "python3"
  },
  "language_info": {
   "codemirror_mode": {
    "name": "ipython",
    "version": 3
   },
   "file_extension": ".py",
   "mimetype": "text/x-python",
   "name": "python",
   "nbconvert_exporter": "python",
   "pygments_lexer": "ipython3",
   "version": "3.8.5"
  }
 },
 "nbformat": 4,
 "nbformat_minor": 4
}
