{
 "cells": [
  {
   "cell_type": "code",
   "execution_count": null,
   "metadata": {},
   "outputs": [],
   "source": [
    "import random\n",
    "#randint to get an integer in an interval\n",
    "guess = random.randint(1,100)\n",
    "print (guess)\n",
    "\n",
    "#random() itself gives a float between 0 and 1\n",
    "print (random.random())\n",
    "\n",
    "#use random.choice to get a random value in an iterator\n",
    "dinner = random.choice([\"meatball\", \"pizza\", \"pasta\"])\n",
    "print (dinner)\n",
    "\n",
    "#it is possible to get random choices; more than one value\n",
    "#in an iterator\n",
    "dist=[3,5,7,-8,0,'a1','b']\n",
    "distget=random.choices(dist,k=3)\n",
    "print(distget)\n",
    "\n",
    "#shuffle a list\n",
    "random.shuffle(distget)\n",
    "print(distget)"
   ]
  },
  {
   "cell_type": "code",
   "execution_count": null,
   "metadata": {},
   "outputs": [],
   "source": []
  },
  {
   "cell_type": "code",
   "execution_count": null,
   "metadata": {},
   "outputs": [],
   "source": []
  }
 ],
 "metadata": {
  "kernelspec": {
   "display_name": "Python 3",
   "language": "python",
   "name": "python3"
  },
  "language_info": {
   "codemirror_mode": {
    "name": "ipython",
    "version": 3
   },
   "file_extension": ".py",
   "mimetype": "text/x-python",
   "name": "python",
   "nbconvert_exporter": "python",
   "pygments_lexer": "ipython3",
   "version": "3.8.5"
  }
 },
 "nbformat": 4,
 "nbformat_minor": 4
}
