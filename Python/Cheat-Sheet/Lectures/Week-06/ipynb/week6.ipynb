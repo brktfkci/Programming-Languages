{
 "cells": [
  {
   "cell_type": "code",
   "execution_count": null,
   "metadata": {},
   "outputs": [],
   "source": [
    "x = 42 # binds the name \"x\" to an integer object \n",
    "x = \"pc204\" # binds the name \"x\" to the string object \"pc204\" \n",
    "x = [1, 2, 3] # binds the name \"x\" to a list \n",
    "y = ['a', x, 'c'] # binds the name \"y\" to a list which includes an embeded reference to another list  which is  y ['a', [1, 2, 3], 'c’] "
   ]
  },
  {
   "cell_type": "code",
   "execution_count": null,
   "metadata": {},
   "outputs": [],
   "source": [
    "y"
   ]
  },
  {
   "cell_type": "code",
   "execution_count": null,
   "metadata": {},
   "outputs": [],
   "source": [
    "x[1] = 'b' "
   ]
  },
  {
   "cell_type": "code",
   "execution_count": null,
   "metadata": {},
   "outputs": [],
   "source": [
    "y"
   ]
  },
  {
   "cell_type": "code",
   "execution_count": null,
   "metadata": {},
   "outputs": [],
   "source": [
    "#A reference assigned to another reference is \n",
    "#still just a reference...\n",
    "x = [1,2,3]\n",
    "z = x\n",
    "y = ['a',z,'c']\n",
    "print (y)\n",
    "x[1] = 'b'\n",
    "print (y)"
   ]
  },
  {
   "cell_type": "code",
   "execution_count": null,
   "metadata": {},
   "outputs": [],
   "source": [
    "#Creating copies of objects\n",
    "x = [1, 2, 3] \n",
    "y = x[:] # assigning a slice of the entire list creates a copy of the object \n",
    "print (\"This is y at the beginning:\", y)  #gives [1, 2, 3] so now if I modify the original object, like this\n",
    "x[1] = 'b' # so now if I modify the original object \n",
    " \n",
    "#Of course x is changed... to [1, 'b', 3] \n",
    "print(x)\n",
    "\n",
    "#But y is unchanged. \n",
    "print (\"See, y is still the same\", y)\n",
    "#this works for embeded references as well... \n",
    "x = [1, 2, 3] \n",
    "y = ['a', x[:], 'c']"
   ]
  },
  {
   "cell_type": "code",
   "execution_count": null,
   "metadata": {},
   "outputs": [],
   "source": [
    "#iterables -review\n",
    "mylist = [1, 2, 3] \n",
    "for i in mylist:\n",
    "    print(i)\n",
    "mylist = [x*x for x in range(3)]  #iterable\n",
    "for i in mylist:\n",
    "     print(i)"
   ]
  },
  {
   "cell_type": "code",
   "execution_count": null,
   "metadata": {},
   "outputs": [],
   "source": [
    "#Generators ; one time iterables\n",
    "mygenerator = (x*x for x in range(3)) \n",
    "for i in mygenerator: \n",
    "      print(i)"
   ]
  },
  {
   "cell_type": "code",
   "execution_count": null,
   "metadata": {},
   "outputs": [],
   "source": [
    "#now, you'll get nothing!\n",
    "for i in mygenerator: \n",
    "      print(i)"
   ]
  },
  {
   "cell_type": "code",
   "execution_count": null,
   "metadata": {},
   "outputs": [],
   "source": [
    "#returning a generator from the function\n",
    "#see how values are collected via \"yield\"\n",
    "def createGenerator():\n",
    "     mylist = range(3)\n",
    "     for i in mylist: \n",
    "          yield i*i"
   ]
  },
  {
   "cell_type": "code",
   "execution_count": null,
   "metadata": {},
   "outputs": [],
   "source": [
    "mygenerator = createGenerator() # create a generator \n",
    "print(mygenerator) # mygenerator is an object! \n",
    "for i in mygenerator:\n",
    "     print(i)"
   ]
  },
  {
   "cell_type": "code",
   "execution_count": null,
   "metadata": {},
   "outputs": [],
   "source": [
    "#it is used once, so all values just gone! :)\n",
    "for i in mygenerator:\n",
    "     print(i)"
   ]
  }
 ],
 "metadata": {
  "kernelspec": {
   "display_name": "Python 3",
   "language": "python",
   "name": "python3"
  },
  "language_info": {
   "codemirror_mode": {
    "name": "ipython",
    "version": 3
   },
   "file_extension": ".py",
   "mimetype": "text/x-python",
   "name": "python",
   "nbconvert_exporter": "python",
   "pygments_lexer": "ipython3",
   "version": "3.8.5"
  }
 },
 "nbformat": 4,
 "nbformat_minor": 4
}
