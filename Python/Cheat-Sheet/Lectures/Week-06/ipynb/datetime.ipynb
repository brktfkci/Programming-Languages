{
 "cells": [
  {
   "cell_type": "code",
   "execution_count": null,
   "metadata": {},
   "outputs": [],
   "source": [
    "#simple date time\n",
    "import datetime\n",
    "x = datetime.datetime.now()\n",
    "print(x)\n",
    "tmp1=list(str(x).split(\" \"))\n",
    "print (tmp1)"
   ]
  },
  {
   "cell_type": "code",
   "execution_count": null,
   "metadata": {},
   "outputs": [],
   "source": [
    "import datetime\n",
    "today = datetime.datetime.now()\n",
    "print (x.year)\n",
    "print (x.month)\n",
    "print (x.day)\n",
    "print (x.weekday())"
   ]
  },
  {
   "cell_type": "code",
   "execution_count": null,
   "metadata": {},
   "outputs": [],
   "source": [
    "#The method strftime() takes one parameter, format, to specify the format \n",
    "#of the returned string. See below for some examples\n",
    "import datetime\n",
    "x = datetime.datetime.now()\n",
    "print(\"Day name:\", x.strftime(\"%A\")) #convert to day name\n",
    "print(\"Day name (short):\", x.strftime(\"%a\")) #convert to day name\n",
    "print(\"Full date time stamp:\", x.strftime(\"%c\")) #date-time stamp (local date)\n",
    "print(\"Date :\", x.strftime(\"%x\")) #date in dd/mm/yy\n",
    "print(\"Time :\", x.strftime(\"%X\")) #time in hh:mm:ss\n",
    "print(\"Week no :\", x.strftime(\"%W\")) #time in hh:mm:ss\n",
    "import time\n",
    "print(\"Time zone:\", time.tzname) #Time zone\n",
    "\n",
    "#month\n",
    "print(\"Month (short):\", x.strftime(\"%B\")) #Month name\n",
    "print(\"Month (short):\", x.strftime(\"%b\")) #Month (short)\n",
    "print(\"Month no:\", x.strftime(\"%m\")) #Month no: 01-12\n",
    "\n",
    "#year----\n",
    "print(\"Day no of year :\", x.strftime(\"%j\")) #day number of the year\n",
    "print(\"Day no of month :\", x.strftime(\"%d\")) #day number of the year\n",
    "print(\"Year :\", x.strftime(\"%Y\")) #Year\n",
    "print(\"Year (short):\", x.strftime(\"%y\")) #Year\n",
    "\n",
    "#h m s\n",
    "print(\"Hour value of now :\", x.strftime(\"%H\")) #time in hh:mm:ss\n",
    "print(\"Minute value of now :\", x.strftime(\"%M\")) #time in hh:mm:ss\n",
    "print(\"Second value of now :\", x.strftime(\"%S\")) #time in hh:mm:ss\n"
   ]
  },
  {
   "cell_type": "code",
   "execution_count": null,
   "metadata": {},
   "outputs": [],
   "source": [
    "#working with any locale\n",
    "import locale\n",
    "locale.setlocale(locale.LC_ALL, 'tr_TR')  #change locale to Turkish\n",
    "\n",
    "import datetime\n",
    "x = datetime.datetime.now()\n",
    "print(\"Day name:\", x.strftime(\"%A\")) #convert to day name; now in Turkish!!!!"
   ]
  },
  {
   "cell_type": "code",
   "execution_count": null,
   "metadata": {},
   "outputs": [],
   "source": [
    "#working with calendar object\n",
    "import calendar\n",
    "print (calendar.month_name[10])\n",
    "print (calendar.day_name[0])\n",
    "\n",
    "calobject = calendar.LocaleTextCalendar(calendar.MONDAY, 'tr_TR')\n",
    "print (calobject.formatmonth(2020, 11))"
   ]
  },
  {
   "cell_type": "code",
   "execution_count": null,
   "metadata": {},
   "outputs": [],
   "source": [
    "#working with arbitrary date-time\n",
    "myDate = datetime.datetime(2020, 9, 20, 22, 17,45)\n",
    "print(myDate)"
   ]
  },
  {
   "cell_type": "code",
   "execution_count": null,
   "metadata": {},
   "outputs": [],
   "source": [
    "#delta time\n",
    "import datetime\n",
    "x = datetime.datetime.now()\n",
    "future_date = x + datetime.timedelta(days = 45) \n",
    "print (x)\n",
    "print (\"After 45 days :\", future_date)"
   ]
  },
  {
   "cell_type": "code",
   "execution_count": null,
   "metadata": {},
   "outputs": [],
   "source": [
    "#date arithmetics is possible\n",
    "time_diff = future_date - x\n",
    "print (time_diff)"
   ]
  },
  {
   "cell_type": "code",
   "execution_count": null,
   "metadata": {},
   "outputs": [],
   "source": []
  }
 ],
 "metadata": {
  "kernelspec": {
   "display_name": "Python 3",
   "language": "python",
   "name": "python3"
  },
  "language_info": {
   "codemirror_mode": {
    "name": "ipython",
    "version": 3
   },
   "file_extension": ".py",
   "mimetype": "text/x-python",
   "name": "python",
   "nbconvert_exporter": "python",
   "pygments_lexer": "ipython3",
   "version": "3.8.5"
  }
 },
 "nbformat": 4,
 "nbformat_minor": 4
}
