{
 "cells": [
  {
   "cell_type": "markdown",
   "metadata": {},
   "source": [
    "IMPORTANT\n",
    "---------\n",
    "In all of the following examples, you should change path and filenames to \n",
    "something appropriate to your computer!!!!!"
   ]
  },
  {
   "cell_type": "code",
   "execution_count": null,
   "metadata": {},
   "outputs": [],
   "source": [
    "#miscellaneous os module methods\n",
    "import os\n",
    "\n",
    "directory = \"ee393a\"\n",
    "parent_dir = \"/Users/orhang/\"\n",
    "path = os.path.join(parent_dir, directory)\n",
    "#create a directory\n",
    "os.mkdir(path) \n",
    "print(\"Directory {0:s} created\".format(directory)) "
   ]
  },
  {
   "cell_type": "code",
   "execution_count": null,
   "metadata": {},
   "outputs": [],
   "source": [
    "#create directory with mode\n",
    "mode = 0o666  #rw access for all, no execute\n",
    "os.mkdir(\"/Users/orhang/tmp\",mode)"
   ]
  },
  {
   "cell_type": "code",
   "execution_count": null,
   "metadata": {},
   "outputs": [],
   "source": [
    "#better\n",
    "import os\n",
    "\n",
    "#create a directory\n",
    "try:\n",
    "    directory = \"ee393b\"\n",
    "    parent_dir = \"/Users/orhang/\"\n",
    "    path = os.path.join(parent_dir, directory)\n",
    "    os.mkdir(path) \n",
    "    print(\"Directory {0:s} created\".format(directory)) \n",
    "except FileExistsError:\n",
    "    print(\"Directory {0:s} already exists\".format(directory))"
   ]
  },
  {
   "cell_type": "code",
   "execution_count": null,
   "metadata": {},
   "outputs": [],
   "source": [
    "#check if a path exists\n",
    "import os \n",
    "  \n",
    "# Specify path \n",
    "path = \"/Users/orhang/ee393/\"\n",
    "  \n",
    "# Check whether the specified path exists or not \n",
    "isExist = os.path.exists(path) \n",
    "print(isExist) \n",
    "\n",
    "  \n",
    "# Specify path \n",
    "path = '/Users/orhang/Desktop/sample.txt'\n",
    "  \n",
    "# Check whether the specified path exists or not \n",
    "isExist = os.path.exists(path) \n",
    "print(isExist) "
   ]
  },
  {
   "cell_type": "code",
   "execution_count": null,
   "metadata": {},
   "outputs": [],
   "source": [
    "import os\n",
    "path = '/Users/orhang/Desktop/readme.md'\n",
    "#it returns True if specified path is an existing file\n",
    "isFile = os.path.isfile(path) \n",
    "print(isFile) \n",
    "\n",
    "path = '/Users/orhang/Desktop/'\n",
    "#it returns True if specified path is an existing file\n",
    "isFile = os.path.isfile(path) \n",
    "print(isFile) \n",
    "\n",
    "# Check whether the specified path is an \n",
    "# existing directory or not \n",
    "isdir = os.path.isdir(path) \n",
    "print(isdir) "
   ]
  },
  {
   "cell_type": "code",
   "execution_count": null,
   "metadata": {},
   "outputs": [],
   "source": [
    "\n",
    "import os \n",
    "  \n",
    "# Get the list of all files and directories \n",
    "# in the root directory \n",
    "path = \"/Users/orhang\"    \n",
    "dir_list = os.listdir(path) \n",
    "  \n",
    "print(\"Files and directories in '\", path, \"' :\")  \n",
    "  \n",
    "# print the list \n",
    "print(dir_list) "
   ]
  },
  {
   "cell_type": "code",
   "execution_count": null,
   "metadata": {},
   "outputs": [],
   "source": [
    "# importing os module  \n",
    "import os \n",
    "  \n",
    "# Get the path of current working directory \n",
    "path = os.getcwd() \n",
    "print (\"Your current working directory is :\", path)\n",
    "print (\"And the files inside are :\", os.listdir(path))"
   ]
  },
  {
   "cell_type": "code",
   "execution_count": null,
   "metadata": {},
   "outputs": [],
   "source": [
    "#os.listdir() gives list of files inside current directory\n",
    "print (\"The files inside current dir :\", os.listdir())"
   ]
  },
  {
   "cell_type": "code",
   "execution_count": null,
   "metadata": {},
   "outputs": [],
   "source": [
    "#get files and directories inside the current dir\n",
    "#then print their types\n",
    "for x in os.listdir():\n",
    "    if os.path.isfile(x):\n",
    "        print(x, \" is a file\")\n",
    "    else:\n",
    "        print(x, \" is a folder\")"
   ]
  },
  {
   "cell_type": "code",
   "execution_count": null,
   "metadata": {},
   "outputs": [],
   "source": [
    "#change current directory\n",
    "import os\n",
    "os.chdir(\"/Users/orhang\")\n",
    "print(\"Current directory is now :\", os.getcwd())\n",
    "print(os.listdir())"
   ]
  },
  {
   "cell_type": "code",
   "execution_count": null,
   "metadata": {},
   "outputs": [],
   "source": [
    "import os \n",
    "#OS.walk() generate the file names in a directory tree by walking the tree \n",
    "#either top-down or bottom-up. For each directory in the tree rooted at directory top \n",
    "#(including top itself), it yields a 3-tuple (dirpath, dirnames, filenames).\n",
    "#    root : Prints out directories only from what you specified.\n",
    "#    dirs : Prints out sub-directories from root.\n",
    "#    files : Prints out all files from root and directories.\n",
    "#---------------------\n",
    "#BE CAREFUL!!! It may produce huge amount of output!\n",
    "#---------------------\n",
    "#Walk inside base_dir top-down\n",
    "base_dir = \"/Users/orhang/Personal/Courses/OzU/EE393/2020-21\"\n",
    "for (root,dirs,files) in os.walk(base_dir, topdown=True): \n",
    "    print (root)\n",
    "    print (dirs) \n",
    "    print (files) \n",
    "    print (20*\"--\")"
   ]
  },
  {
   "cell_type": "code",
   "execution_count": null,
   "metadata": {},
   "outputs": [],
   "source": [
    "#Executing system commands\n",
    "import os\n",
    "base_dir = \"/Users/orhang/\"\n",
    "os.system(\"ls -la >output\")\n",
    "os.system(\"mkdir tttt\")\n",
    "os.system(\"ls -la \"+base_dir+\">output2\")"
   ]
  },
  {
   "cell_type": "code",
   "execution_count": null,
   "metadata": {},
   "outputs": [],
   "source": [
    "#Running a command with sub process\n",
    "#The subprocess module is Python's recommended way to executing shell commands. \n",
    "#It gives us the flexibility to suppress the output of shell commands or chain inputs and \n",
    "#outputs of various commands together, while still providing a similar experience to os.system() \n",
    "#for basic use cases.\n",
    "import subprocess\n",
    "\n",
    "list_files = subprocess.run([\"ls\", \"-l\"])\n",
    "print(\"The exit code \", list_files.returncode)"
   ]
  },
  {
   "cell_type": "code",
   "execution_count": null,
   "metadata": {},
   "outputs": [],
   "source": [
    "#removing a directory\n",
    "base_dir = \"/Users/orhang/Personal/Courses/OzU/EE393/2020-21/week6/\"\n",
    "os.chdir(base_dir)\n",
    "os.rmdir(\"tttt\")"
   ]
  },
  {
   "cell_type": "code",
   "execution_count": null,
   "metadata": {},
   "outputs": [],
   "source": []
  }
 ],
 "metadata": {
  "kernelspec": {
   "display_name": "Python 3",
   "language": "python",
   "name": "python3"
  },
  "language_info": {
   "codemirror_mode": {
    "name": "ipython",
    "version": 3
   },
   "file_extension": ".py",
   "mimetype": "text/x-python",
   "name": "python",
   "nbconvert_exporter": "python",
   "pygments_lexer": "ipython3",
   "version": "3.8.5"
  }
 },
 "nbformat": 4,
 "nbformat_minor": 4
}
