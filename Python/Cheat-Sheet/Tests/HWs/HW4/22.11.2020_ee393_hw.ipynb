{
 "cells": [
  {
   "cell_type": "markdown",
   "metadata": {},
   "source": [
    "YOUR NAME, SURNAME etc."
   ]
  },
  {
   "cell_type": "markdown",
   "metadata": {},
   "source": [
    "<font color=\"red\"><b>EE393 HW -22.11.2020 </b></font><br>\n",
    "A DNA microarray (also commonly known as DNA chip or biochip) is a collection of microscopic DNA spots attached to a solid surface. Scientists use DNA microarrays to measure the expression levels of large numbers of genes simultaneously or to genotype multiple regions of a genome. <br><br>In the following table we have expression values for 4 genes at 4 time points. These are completely made up data. Although, some of the questions can be easily answered by looking at the data, microarray data generally come in much larger tables and if you can figure it out here the same code will work for an entire gene chip.\n",
    "<table align=\"left\">\n",
    "    <tr><td>Gene name</td><td>4h</td><td>12h</td><td>24h</td><td>48h</td></tr>\n",
    "    <tr><td>A2M</td><td>0.12</td><td>0.08</td><td>0.06</td><td>0.02</td></tr>\n",
    "    <tr><td>FOS</td><td>0.01</td><td>0.07</td><td>0.11</td><td>0.09</td></tr>\n",
    "    <tr><td>BRCA2</td><td>0.03</td><td>0.04</td><td>0.04</td><td>0.02</td></tr>\n",
    "    <tr><td>CPOX</td><td>0.05</td><td>0.09</td><td>0.11</td><td>0.14</td></tr>\n",
    "</table>\n",
    "<div style=\"float:left;\">\n",
    "<br>\n",
    "Complete the following tasks as described in the comments area of each of the cells below. <br>\n",
    "<ul>\n",
    "<li>In each of the task, you need to write necessary Python and numpy/sippy/matplotlib codes and create some print-out.</li>\n",
    "<li>Give proper and meaningful names to your variables </li>\n",
    "<li>Good commenting is encouraged! </li>\n",
    "<li>Do not forget to import necessary libraries in the first cell. </li>\n",
    "<li>You may add additional cells if needed. </li>\n",
    "    <li>GRADING: Q1 to Q5; 8pts each; Q6 to Q9: 15pts each</li>\n",
    "</div>"
   ]
  },
  {
   "cell_type": "code",
   "execution_count": null,
   "metadata": {},
   "outputs": [],
   "source": [
    "# 1. create a single numpy array which holds the data shown in Q1(4x4)\n",
    "\n"
   ]
  },
  {
   "cell_type": "code",
   "execution_count": null,
   "metadata": {},
   "outputs": [],
   "source": [
    "# 2. find the mean expression value per gene\n",
    "\n"
   ]
  },
  {
   "cell_type": "code",
   "execution_count": null,
   "metadata": {},
   "outputs": [],
   "source": [
    "# 3. find the mean expression value per time point\n",
    "\n"
   ]
  },
  {
   "cell_type": "code",
   "execution_count": null,
   "metadata": {},
   "outputs": [],
   "source": [
    "# 4. which gene has the maximum mean expression value?\n",
    "\n"
   ]
  },
  {
   "cell_type": "code",
   "execution_count": null,
   "metadata": {},
   "outputs": [],
   "source": [
    "# 5. sort the gene names by the max expression value\n",
    "\n"
   ]
  },
  {
   "cell_type": "code",
   "execution_count": null,
   "metadata": {},
   "outputs": [],
   "source": [
    "# 6. a new gene is defined which is A2M+0.2*FOS-BRCA2+0.21*CPOX. Find it and name it az OZU\n",
    "\n"
   ]
  },
  {
   "cell_type": "code",
   "execution_count": null,
   "metadata": {},
   "outputs": [],
   "source": [
    "# 7. The researchers found it necessary to increase all values less than 0.05 by 15%.\n",
    "\n",
    "\n"
   ]
  },
  {
   "cell_type": "code",
   "execution_count": 1,
   "metadata": {},
   "outputs": [],
   "source": [
    "# 8. It was necessary to calculate values for each of the genes for every \n",
    "# 4h starting from 4h. That is, values are needed for 4h, 8h, 12h, 16h, 20h...48h\n",
    "# it is therefore necessary to make an interpolation. Make the interpolation\n",
    "# using proper scipy functions, and then print values for each of the genes in \n",
    "# separate print statements with a fancy format\n",
    "\n",
    "\n",
    "\n"
   ]
  },
  {
   "cell_type": "code",
   "execution_count": null,
   "metadata": {},
   "outputs": [],
   "source": [
    "# 9. for each gene, plot the gene values with respect to time using interpolated values .\n",
    "\n",
    "\n"
   ]
  }
 ],
 "metadata": {
  "kernelspec": {
   "display_name": "Python 3",
   "language": "python",
   "name": "python3"
  },
  "language_info": {
   "codemirror_mode": {
    "name": "ipython",
    "version": 3
   },
   "file_extension": ".py",
   "mimetype": "text/x-python",
   "name": "python",
   "nbconvert_exporter": "python",
   "pygments_lexer": "ipython3",
   "version": "3.8.5"
  }
 },
 "nbformat": 4,
 "nbformat_minor": 4
}
